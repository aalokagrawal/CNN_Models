{
  "cells": [
    {
      "cell_type": "code",
      "execution_count": null,
      "metadata": {
        "id": "1JyAhPUwg5_r"
      },
      "outputs": [],
      "source": [
        "%matplotlib inline\n",
        "import torch\n",
        "import torch.nn as nn\n",
        "import torch.nn.functional as F\n",
        "import numpy as np\n",
        "from torchvision import transforms,datasets\n",
        "import torch.optim as optim\n",
        "from torch.autograd import Variable\n",
        "import torchvision\n",
        "import sys\n",
        "\n",
        "\n",
        "import matplotlib.pyplot as plt\n",
        "import time"
      ]
    },
    {
      "cell_type": "code",
      "execution_count": null,
      "metadata": {
        "id": "tWFxKovghBRw"
      },
      "outputs": [],
      "source": [
        "import torch\n",
        "import torchvision"
      ]
    },
    {
      "cell_type": "code",
      "execution_count": null,
      "metadata": {
        "colab": {
          "base_uri": "https://localhost:8080/",
          "height": 478,
          "referenced_widgets": [
            "647efc5f4ff6439d940d32f2b5100c28",
            "23e170fa60914ecda5c914975270a554",
            "f23ed5998edc4d40af1f57b11a3d2f5c",
            "6aa3d17f38af4c98acdd0264fc0c1f50",
            "6d8e59ef161d49ab9baa87e9dec6983a",
            "5d2c05fbcd614b8aa7d55d68b1cdfd61",
            "f890a55f8a39474b9eb5adb7704ef2d1",
            "f3adb220708740caa8d4b8e59a877731",
            "4d889b31434542e4b2815855e550e244",
            "92b8b478168e42a5bed170619d0fd685",
            "5e3d7f744a58441a8cc85f26b000bd4d",
            "010165d3c5fa4aa0a884d9651f96ed12",
            "2312ba53964e489389bd55e67f8a4ca8",
            "02b3cb3d3f3b41f09bb919913ee818cc",
            "c1ec37020a0d4342bc238850c901408b",
            "4377742e79ef4e03ad0afa1d7b809353",
            "dfc4c05395624b29af51eb00be35c556",
            "98debbd68a2e401f8a83986d2628c91b",
            "f13ce9c45cc5411ca56f3d1aea069e1e",
            "1a21acca1e3d4d6d8e872f204da9ad15",
            "9a988a48501b4483ad696822dc737690",
            "a52a8615c7284d03954ea2ad1a82f1bc",
            "d45c5239ff9247278b1a05bc26270de9",
            "05aa32f0a5934d7a855255b9a9b08d15",
            "741e9b96ced04bca8a1cdb03cf415dfb",
            "68bba6c01fa1477ab925b6453a4756ba",
            "d769ac861eea4424b0459bbaaeace3f4",
            "9cce76bea3504f72a2f510fcff7507fe",
            "5133d23937594d2c8e1b824cb1bdb1e5",
            "724ec99dbc1f457ca1530ef4d704ff25",
            "20423c5bdd76459abef63b591e3042ff",
            "614c6c92943a4507b6d85098a94f7320",
            "cc73131ae22144518b28d04ac034fb28",
            "718401ccbf7541d7a9ab189426e0cd4f",
            "0bf2bc72117b4e28851cde6e6194777d",
            "70cb3417745d460daa2460a471b84454",
            "99365f631f4f4b8c8e0ff477848f021b",
            "2507a32c42324fa8bc5c9d522698d0cd",
            "064a83b06d2e4f57b934b12558dfc2e8",
            "a2c6378434bc4443bebe1bb66c897799",
            "cca7ff0b7168448fa256f6c7a51173ae",
            "3fa531a272ec48c0950f1a9c26d88b24",
            "92f913005fa8471ea111f2947cbe10f7",
            "fe4c78b045964aff80250a7da5afafe4"
          ]
        },
        "id": "jQOmc53jhLzr",
        "outputId": "696a9126-0ffe-412a-f8c0-e466b099c4e5"
      },
      "outputs": [
        {
          "output_type": "stream",
          "name": "stdout",
          "text": [
            "Downloading http://yann.lecun.com/exdb/mnist/train-images-idx3-ubyte.gz\n",
            "Downloading http://yann.lecun.com/exdb/mnist/train-images-idx3-ubyte.gz to ./MNIST/MNIST/raw/train-images-idx3-ubyte.gz\n"
          ]
        },
        {
          "output_type": "display_data",
          "data": {
            "application/vnd.jupyter.widget-view+json": {
              "model_id": "647efc5f4ff6439d940d32f2b5100c28",
              "version_minor": 0,
              "version_major": 2
            },
            "text/plain": [
              "  0%|          | 0/9912422 [00:00<?, ?it/s]"
            ]
          },
          "metadata": {}
        },
        {
          "output_type": "stream",
          "name": "stdout",
          "text": [
            "Extracting ./MNIST/MNIST/raw/train-images-idx3-ubyte.gz to ./MNIST/MNIST/raw\n",
            "\n",
            "Downloading http://yann.lecun.com/exdb/mnist/train-labels-idx1-ubyte.gz\n",
            "Downloading http://yann.lecun.com/exdb/mnist/train-labels-idx1-ubyte.gz to ./MNIST/MNIST/raw/train-labels-idx1-ubyte.gz\n"
          ]
        },
        {
          "output_type": "display_data",
          "data": {
            "application/vnd.jupyter.widget-view+json": {
              "model_id": "010165d3c5fa4aa0a884d9651f96ed12",
              "version_minor": 0,
              "version_major": 2
            },
            "text/plain": [
              "  0%|          | 0/28881 [00:00<?, ?it/s]"
            ]
          },
          "metadata": {}
        },
        {
          "output_type": "stream",
          "name": "stdout",
          "text": [
            "Extracting ./MNIST/MNIST/raw/train-labels-idx1-ubyte.gz to ./MNIST/MNIST/raw\n",
            "\n",
            "Downloading http://yann.lecun.com/exdb/mnist/t10k-images-idx3-ubyte.gz\n",
            "Downloading http://yann.lecun.com/exdb/mnist/t10k-images-idx3-ubyte.gz to ./MNIST/MNIST/raw/t10k-images-idx3-ubyte.gz\n"
          ]
        },
        {
          "output_type": "display_data",
          "data": {
            "application/vnd.jupyter.widget-view+json": {
              "model_id": "d45c5239ff9247278b1a05bc26270de9",
              "version_minor": 0,
              "version_major": 2
            },
            "text/plain": [
              "  0%|          | 0/1648877 [00:00<?, ?it/s]"
            ]
          },
          "metadata": {}
        },
        {
          "output_type": "stream",
          "name": "stdout",
          "text": [
            "Extracting ./MNIST/MNIST/raw/t10k-images-idx3-ubyte.gz to ./MNIST/MNIST/raw\n",
            "\n",
            "Downloading http://yann.lecun.com/exdb/mnist/t10k-labels-idx1-ubyte.gz\n",
            "Downloading http://yann.lecun.com/exdb/mnist/t10k-labels-idx1-ubyte.gz to ./MNIST/MNIST/raw/t10k-labels-idx1-ubyte.gz\n"
          ]
        },
        {
          "output_type": "display_data",
          "data": {
            "application/vnd.jupyter.widget-view+json": {
              "model_id": "718401ccbf7541d7a9ab189426e0cd4f",
              "version_minor": 0,
              "version_major": 2
            },
            "text/plain": [
              "  0%|          | 0/4542 [00:00<?, ?it/s]"
            ]
          },
          "metadata": {}
        },
        {
          "output_type": "stream",
          "name": "stdout",
          "text": [
            "Extracting ./MNIST/MNIST/raw/t10k-labels-idx1-ubyte.gz to ./MNIST/MNIST/raw\n",
            "\n"
          ]
        },
        {
          "output_type": "stream",
          "name": "stderr",
          "text": [
            "/usr/local/lib/python3.7/dist-packages/torch/utils/data/dataloader.py:481: UserWarning: This DataLoader will create 4 worker processes in total. Our suggested max number of worker in current system is 2, which is smaller than what this DataLoader is going to create. Please be aware that excessive worker creation might get DataLoader running slow or even freeze, lower the worker number to avoid potential slowness/freeze if necessary.\n",
            "  cpuset_checked))\n"
          ]
        }
      ],
      "source": [
        "apply_transform = transforms.Compose([transforms.Resize(32), transforms.ToTensor()])\n",
        "BatchSize = 256 # change according to system specs\n",
        "BatchSize2 = 1024 # change according to system specs\n",
        "\n",
        "\n",
        "trainset = datasets.MNIST(root='./MNIST', train=True, download=True, transform=apply_transform)\n",
        "trainLoader = torch.utils.data.DataLoader(trainset, batch_size=BatchSize,\n",
        "                                          shuffle=True, num_workers=4) # Creating dataloader\n",
        "\n",
        "# Validation set with random rotations in the range [-90,90]\n",
        "testset = datasets.MNIST(root='./MNIST', train=False, download=True, transform=apply_transform)\n",
        "testLoader = torch.utils.data.DataLoader(testset, batch_size=BatchSize,\n",
        "                                         shuffle=False, num_workers=4) # Creating dataloader\n",
        "\n",
        "trainset2 = datasets.MNIST(root='./MNIST', train=True, download=True, transform=apply_transform)\n",
        "trainLoader2 = torch.utils.data.DataLoader(trainset2, batch_size=BatchSize2,\n",
        "                                          shuffle=True, num_workers=4) # Creating dataloader\n",
        "\n",
        "# Validation set with random rotations in the range [-90,90]\n",
        "testset2 = datasets.MNIST(root='./MNIST', train=False, download=True, transform=apply_transform)\n",
        "testLoader2 = torch.utils.data.DataLoader(testset2, batch_size=BatchSize2,\n",
        "                                         shuffle=False, num_workers=4) # Creating dataloader                                         "
      ]
    },
    {
      "cell_type": "code",
      "execution_count": null,
      "metadata": {
        "colab": {
          "base_uri": "https://localhost:8080/"
        },
        "id": "Vfft59iCkHXQ",
        "outputId": "e893c96f-2b26-4052-9364-e41d5b01abc7"
      },
      "outputs": [
        {
          "output_type": "stream",
          "name": "stdout",
          "text": [
            "No. of samples in train set: 60000\n",
            "No. of samples in test set: 10000\n",
            "No. of samples in train set2: 60000\n",
            "No. of samples in test set2: 10000\n"
          ]
        }
      ],
      "source": [
        "# Size of train and test datasets\n",
        "print('No. of samples in train set: '+str(len(trainLoader.dataset)))\n",
        "print('No. of samples in test set: '+str(len(testLoader.dataset)))\n",
        "# Size of train and test datasets\n",
        "print('No. of samples in train set2: '+str(len(trainLoader2.dataset)))\n",
        "print('No. of samples in test set2: '+str(len(testLoader2.dataset)))"
      ]
    },
    {
      "cell_type": "code",
      "execution_count": null,
      "metadata": {
        "id": "ykZ_LOB8kOTY"
      },
      "outputs": [],
      "source": [
        "class LeNet(nn.Module):\n",
        "    def __init__(self):\n",
        "        super(LeNet, self).__init__()\n",
        "        self.conv1 = nn.Conv2d(1, 6, kernel_size=5)\n",
        "        self.pool1 = nn.MaxPool2d(kernel_size=2,stride=2)\n",
        "        self.conv2 = nn.Conv2d(6, 16, kernel_size=5)\n",
        "        self.pool2 = nn.MaxPool2d(kernel_size=2,stride=2)        \n",
        "        self.fc1 = nn.Linear(400, 120)\n",
        "        self.fc2 = nn.Linear(120, 84)\n",
        "        self.fc3 = nn.Linear(84, 10)\n",
        "\n",
        "    def forward(self, x):\n",
        "        x = F.relu(self.conv1(x))\n",
        "        x = self.pool1(x)\n",
        "        x = F.relu(self.conv2(x))\n",
        "        x = self.pool2(x)\n",
        "        x = x.view(-1, 400)\n",
        "        x = F.relu(self.fc1(x)) \n",
        "        x = F.relu(self.fc2(x))\n",
        "        x = self.fc3(x)\n",
        "        return F.log_softmax(x,dim=1)"
      ]
    },
    {
      "cell_type": "code",
      "execution_count": null,
      "metadata": {
        "colab": {
          "base_uri": "https://localhost:8080/"
        },
        "id": "3qgUUTXfkltu",
        "outputId": "b59a9c2d-5851-4f35-dadf-7c213c6a8948"
      },
      "outputs": [
        {
          "output_type": "stream",
          "name": "stdout",
          "text": [
            "LeNet(\n",
            "  (conv1): Conv2d(1, 6, kernel_size=(5, 5), stride=(1, 1))\n",
            "  (pool1): MaxPool2d(kernel_size=2, stride=2, padding=0, dilation=1, ceil_mode=False)\n",
            "  (conv2): Conv2d(6, 16, kernel_size=(5, 5), stride=(1, 1))\n",
            "  (pool2): MaxPool2d(kernel_size=2, stride=2, padding=0, dilation=1, ceil_mode=False)\n",
            "  (fc1): Linear(in_features=400, out_features=120, bias=True)\n",
            "  (fc2): Linear(in_features=120, out_features=84, bias=True)\n",
            "  (fc3): Linear(in_features=84, out_features=10, bias=True)\n",
            ")\n",
            "LeNet(\n",
            "  (conv1): Conv2d(1, 6, kernel_size=(5, 5), stride=(1, 1))\n",
            "  (pool1): MaxPool2d(kernel_size=2, stride=2, padding=0, dilation=1, ceil_mode=False)\n",
            "  (conv2): Conv2d(6, 16, kernel_size=(5, 5), stride=(1, 1))\n",
            "  (pool2): MaxPool2d(kernel_size=2, stride=2, padding=0, dilation=1, ceil_mode=False)\n",
            "  (fc1): Linear(in_features=400, out_features=120, bias=True)\n",
            "  (fc2): Linear(in_features=120, out_features=84, bias=True)\n",
            "  (fc3): Linear(in_features=84, out_features=10, bias=True)\n",
            ")\n",
            "LeNet(\n",
            "  (conv1): Conv2d(1, 6, kernel_size=(5, 5), stride=(1, 1))\n",
            "  (pool1): MaxPool2d(kernel_size=2, stride=2, padding=0, dilation=1, ceil_mode=False)\n",
            "  (conv2): Conv2d(6, 16, kernel_size=(5, 5), stride=(1, 1))\n",
            "  (pool2): MaxPool2d(kernel_size=2, stride=2, padding=0, dilation=1, ceil_mode=False)\n",
            "  (fc1): Linear(in_features=400, out_features=120, bias=True)\n",
            "  (fc2): Linear(in_features=120, out_features=84, bias=True)\n",
            "  (fc3): Linear(in_features=84, out_features=10, bias=True)\n",
            ")\n",
            "GPU is avaialble!\n"
          ]
        }
      ],
      "source": [
        "use_gpu = torch.cuda.is_available()\n",
        "net1= LeNet()\n",
        "net2= LeNet()\n",
        "net3= LeNet()\n",
        "\n",
        "print(net1)\n",
        "print(net2)\n",
        "print(net3)\n",
        "\n",
        "if use_gpu:\n",
        "    print('GPU is avaialble!')\n",
        "    net1 = net1.cuda()\n",
        "    net2 = net2.cuda()\n",
        "    net3 = net3.cuda()\n",
        "    "
      ]
    },
    {
      "cell_type": "code",
      "execution_count": null,
      "metadata": {
        "colab": {
          "base_uri": "https://localhost:8080/"
        },
        "id": "TKvgsDpAkpgr",
        "outputId": "ae562e18-4275-4002-aa9e-9a0a4fc75830"
      },
      "outputs": [
        {
          "output_type": "stream",
          "name": "stderr",
          "text": [
            "/usr/local/lib/python3.7/dist-packages/torch/utils/data/dataloader.py:481: UserWarning: This DataLoader will create 4 worker processes in total. Our suggested max number of worker in current system is 2, which is smaller than what this DataLoader is going to create. Please be aware that excessive worker creation might get DataLoader running slow or even freeze, lower the worker number to avoid potential slowness/freeze if necessary.\n",
            "  cpuset_checked))\n"
          ]
        },
        {
          "output_type": "stream",
          "name": "stdout",
          "text": [
            "Epoch 1/50 : Training loss: 2.3069 | Training Accuracy: 9.7367\n",
            "Epoch 2/50 : Training loss: 2.2817 | Training Accuracy: 10.3383\n",
            "Epoch 3/50 : Training loss: 2.2004 | Training Accuracy: 10.0400\n",
            "Epoch 4/50 : Training loss: 1.9440 | Training Accuracy: 52.8933\n",
            "Epoch 5/50 : Training loss: 1.5103 | Training Accuracy: 54.0317\n",
            "Epoch 6/50 : Training loss: 1.7296 | Training Accuracy: 37.6667\n",
            "Epoch 7/50 : Training loss: 1.7392 | Training Accuracy: 47.2700\n",
            "Epoch 8/50 : Training loss: 1.2504 | Training Accuracy: 55.2300\n",
            "Epoch 9/50 : Training loss: 1.1325 | Training Accuracy: 62.2317\n",
            "Epoch 10/50 : Training loss: 1.1187 | Training Accuracy: 65.3417\n",
            "Epoch 11/50 : Training loss: 1.0605 | Training Accuracy: 68.0333\n",
            "Epoch 12/50 : Training loss: 0.9544 | Training Accuracy: 70.1933\n",
            "Epoch 13/50 : Training loss: 0.8173 | Training Accuracy: 72.9617\n",
            "Epoch 14/50 : Training loss: 0.6738 | Training Accuracy: 77.5550\n",
            "Epoch 15/50 : Training loss: 0.5924 | Training Accuracy: 81.4383\n",
            "Epoch 16/50 : Training loss: 0.6357 | Training Accuracy: 79.5233\n",
            "Epoch 17/50 : Training loss: 0.5352 | Training Accuracy: 83.8367\n",
            "Epoch 18/50 : Training loss: 0.5177 | Training Accuracy: 84.4050\n",
            "Epoch 19/50 : Training loss: 0.5057 | Training Accuracy: 84.8933\n",
            "Epoch 20/50 : Training loss: 0.4344 | Training Accuracy: 87.6250\n",
            "Epoch 21/50 : Training loss: 0.3895 | Training Accuracy: 88.7333\n",
            "Epoch 22/50 : Training loss: 0.3761 | Training Accuracy: 88.5283\n",
            "Epoch 23/50 : Training loss: 0.3470 | Training Accuracy: 89.5017\n",
            "Epoch 24/50 : Training loss: 0.3098 | Training Accuracy: 90.9967\n",
            "Epoch 25/50 : Training loss: 0.2913 | Training Accuracy: 91.3833\n",
            "Epoch 26/50 : Training loss: 0.2848 | Training Accuracy: 91.3467\n",
            "Epoch 27/50 : Training loss: 0.2719 | Training Accuracy: 91.6317\n",
            "Epoch 28/50 : Training loss: 0.2538 | Training Accuracy: 92.3083\n",
            "Epoch 29/50 : Training loss: 0.2345 | Training Accuracy: 92.9717\n",
            "Epoch 30/50 : Training loss: 0.2206 | Training Accuracy: 93.3600\n",
            "Epoch 31/50 : Training loss: 0.2129 | Training Accuracy: 93.5450\n",
            "Epoch 32/50 : Training loss: 0.2001 | Training Accuracy: 93.8700\n",
            "Epoch 33/50 : Training loss: 0.1829 | Training Accuracy: 94.3983\n",
            "Epoch 34/50 : Training loss: 0.1729 | Training Accuracy: 94.6700\n",
            "Epoch 35/50 : Training loss: 0.1664 | Training Accuracy: 94.8267\n",
            "Epoch 36/50 : Training loss: 0.1574 | Training Accuracy: 95.0950\n",
            "Epoch 37/50 : Training loss: 0.1484 | Training Accuracy: 95.4167\n",
            "Epoch 38/50 : Training loss: 0.1396 | Training Accuracy: 95.7400\n",
            "Epoch 39/50 : Training loss: 0.1339 | Training Accuracy: 95.9133\n",
            "Epoch 40/50 : Training loss: 0.1284 | Training Accuracy: 96.1133\n",
            "Epoch 41/50 : Training loss: 0.1216 | Training Accuracy: 96.3033\n",
            "Epoch 42/50 : Training loss: 0.1157 | Training Accuracy: 96.4533\n",
            "Epoch 43/50 : Training loss: 0.1120 | Training Accuracy: 96.5317\n",
            "Epoch 44/50 : Training loss: 0.1082 | Training Accuracy: 96.6267\n",
            "Epoch 45/50 : Training loss: 0.1032 | Training Accuracy: 96.8333\n",
            "Epoch 46/50 : Training loss: 0.0988 | Training Accuracy: 97.0067\n",
            "Epoch 47/50 : Training loss: 0.0958 | Training Accuracy: 97.1017\n",
            "Epoch 48/50 : Training loss: 0.0923 | Training Accuracy: 97.1783\n",
            "Epoch 49/50 : Training loss: 0.0879 | Training Accuracy: 97.3033\n",
            "Epoch 50/50 : Training loss: 0.0840 | Training Accuracy: 97.4000\n"
          ]
        }
      ],
      "source": [
        "criterion = nn.CrossEntropyLoss() \n",
        "learning_rate1 = 0.01\n",
        "optimizer1 = optim.Adam(net1.parameters(), lr=learning_rate1) # ADAM \n",
        "num_epochs = 50\n",
        "\n",
        "train_loss = []\n",
        "train_acc = []\n",
        "for epoch in range(num_epochs):\n",
        "    \n",
        "    running_loss = 0.0 \n",
        "    running_corr = 0\n",
        "        \n",
        "    for i,data in enumerate(trainLoader):\n",
        "        inputs,labels = data\n",
        "        if use_gpu:\n",
        "            inputs, labels = inputs.cuda(),labels.cuda() \n",
        "        # Initializing model gradients to zero\n",
        "        optimizer1.zero_grad() \n",
        "        # Data feed-forward through the network\n",
        "        outputs1 = net1(inputs)\n",
        "        # Predicted class is the one with maximum probability\n",
        "        preds1 = torch.argmax(outputs1,dim=1)\n",
        "        # Finding the loss\n",
        "        loss = criterion(outputs1, labels)\n",
        "        # Accumulating the loss for each batch\n",
        "        running_loss += loss \n",
        "        # Accumulate number of correct predictions\n",
        "        running_corr += torch.sum(preds1==labels)    \n",
        "        \n",
        "    totalLoss1 = running_loss/(i+1)\n",
        "    # Calculating gradients\n",
        "    totalLoss1.backward()\n",
        "    # Updating the model parameters\n",
        "    # Updating the model parameters\n",
        "    optimizer1.step()\n",
        "        \n",
        "    epoch_loss = running_loss.item()/(i+1)   #Total loss for one epoch\n",
        "    epoch_acc = running_corr.item()/60000\n",
        "    \n",
        "    \n",
        "         \n",
        "    train_loss.append(epoch_loss) #Saving the loss over epochs for plotting the graph\n",
        "    train_acc.append(epoch_acc) #Saving the accuracy over epochs for plotting the graph\n",
        "       \n",
        "        \n",
        "    print('Epoch {:.0f}/{:.0f} : Training loss: {:.4f} | Training Accuracy: {:.4f}'.format(epoch+1,num_epochs,epoch_loss,epoch_acc*100))"
      ]
    },
    {
      "cell_type": "code",
      "execution_count": null,
      "metadata": {
        "colab": {
          "base_uri": "https://localhost:8080/",
          "height": 351
        },
        "id": "KJV5K495Hn-o",
        "outputId": "48cafc24-dcef-464f-f148-1c92df85962b"
      },
      "outputs": [
        {
          "output_type": "execute_result",
          "data": {
            "text/plain": [
              "Text(0, 0.5, 'Training')"
            ]
          },
          "metadata": {},
          "execution_count": 8
        },
        {
          "output_type": "display_data",
          "data": {
            "image/png": "[encoded data removed]",
            "text/plain": [
              "<Figure size 1080x360 with 2 Axes>"
            ]
          },
          "metadata": {
            "needs_background": "light"
          }
        }
      ],
      "source": [
        "fig = plt.figure(figsize=[15,5]) \n",
        "plt.subplot(121)\n",
        "plt.plot(range(num_epochs),train_loss,'r-',label='Loss/error') \n",
        "plt.legend(loc='upper right')\n",
        "plt.xlabel('Epochs')\n",
        "plt.ylabel('Training')\n",
        "plt.subplot(122)\n",
        "plt.plot(range(num_epochs),train_acc,'g-',label='Accuracy') \n",
        "plt.legend(loc='upper right')\n",
        "plt.xlabel('Epochs')\n",
        "plt.ylabel('Training')"
      ]
    },
    {
      "cell_type": "code",
      "source": [
        "epochs=[10,25,50]\n",
        "new_loss=[train_loss[9],train_loss[24],train_loss[49]]\n",
        "print(new_loss)\n",
        "fig = plt.figure(figsize=[15,5]) \n",
        "plt.plot(epochs,new_loss,'g-',label='Epochs vs Loss') \n",
        "plt.xlabel('Epochs')\n",
        "plt.ylabel('Loss')"
      ],
      "metadata": {
        "colab": {
          "base_uri": "https://localhost:8080/",
          "height": 369
        },
        "id": "_TVZTrM9d-yy",
        "outputId": "e6c95599-e071-44ee-dd1e-2f6158a627c6"
      },
      "execution_count": null,
      "outputs": [
        {
          "output_type": "stream",
          "name": "stdout",
          "text": [
            "[1.1187031198055186, 0.29125535031582445, 0.08396876720671959]\n"
          ]
        },
        {
          "output_type": "execute_result",
          "data": {
            "text/plain": [
              "Text(0, 0.5, 'Loss')"
            ]
          },
          "metadata": {},
          "execution_count": 15
        },
        {
          "output_type": "display_data",
          "data": {
            "image/png": "[encoded data removed]",
            "text/plain": [
              "<Figure size 1080x360 with 1 Axes>"
            ]
          },
          "metadata": {
            "needs_background": "light"
          }
        }
      ]
    },
    {
      "cell_type": "markdown",
      "source": [
        "## For different Learning rates"
      ],
      "metadata": {
        "id": "ZwT07PZlhj7T"
      }
    },
    {
      "cell_type": "code",
      "source": [
        "criterion = nn.CrossEntropyLoss() \n",
        "learning_rate1 = [0.01,0.0002,0.00001]\n",
        " \n",
        "num_epochs = 25\n",
        "\n",
        "for lrate in learning_rate1:\n",
        "  optimizer1 = optim.Adam(net1.parameters(), lr=lrate) # ADAM\n",
        "  train_loss = []\n",
        "  train_acc = []\n",
        "  for epoch in range(num_epochs):\n",
        "      \n",
        "      running_loss = 0.0 \n",
        "      running_corr = 0\n",
        "          \n",
        "      for i,data in enumerate(trainLoader):\n",
        "          inputs,labels = data\n",
        "          if use_gpu:\n",
        "              inputs, labels = inputs.cuda(),labels.cuda() \n",
        "          # Initializing model gradients to zero\n",
        "          optimizer1.zero_grad() \n",
        "          # Data feed-forward through the network\n",
        "          outputs1 = net1(inputs)\n",
        "          # Predicted class is the one with maximum probability\n",
        "          preds1 = torch.argmax(outputs1,dim=1)\n",
        "          # Finding the loss\n",
        "          loss = criterion(outputs1, labels)\n",
        "          # Accumulating the loss for each batch\n",
        "          running_loss += loss \n",
        "          # Accumulate number of correct predictions\n",
        "          running_corr += torch.sum(preds1==labels)    \n",
        "          \n",
        "      totalLoss1 = running_loss/(i+1)\n",
        "      # Calculating gradients\n",
        "      totalLoss1.backward()\n",
        "      # Updating the model parameters\n",
        "      # Updating the model parameters\n",
        "      optimizer1.step()\n",
        "          \n",
        "      epoch_loss = running_loss.item()/(i+1)   #Total loss for one epoch\n",
        "      epoch_acc = running_corr.item()/60000\n",
        "      \n",
        "      \n",
        "          \n",
        "      train_loss.append(epoch_loss) #Saving the loss over epochs for plotting the graph\n",
        "      train_acc.append(epoch_acc) #Saving the accuracy over epochs for plotting the graph\n",
        "        \n",
        "          \n",
        "      print('Epoch {:.0f}/{:.0f} : Training loss: {:.4f} | Training Accuracy: {:.4f}'.format(epoch+1,num_epochs,epoch_loss,epoch_acc*100))\n",
        "  fig = plt.figure(figsize=[15,5]) \n",
        "  plt.subplot(121)\n",
        "  plt.title(f\"Plot for Learning Rate {lrate}\")\n",
        "  plt.plot(range(num_epochs),train_loss,'r-',label='Loss/error') \n",
        "  plt.legend(loc='upper right')\n",
        "  plt.xlabel('Epochs')\n",
        "  plt.ylabel('Training')\n",
        "  plt.subplot(122)\n",
        "  plt.plot(range(num_epochs),train_acc,'g-',label='Accuracy') \n",
        "  plt.legend(loc='upper right')\n",
        "  plt.xlabel('Epochs')\n",
        "  plt.ylabel('Training')"
      ],
      "metadata": {
        "colab": {
          "base_uri": "https://localhost:8080/",
          "height": 1000
        },
        "id": "GzY93z_Qgaob",
        "outputId": "0bcfc50e-89f3-4be0-c36f-548f4c7094fd"
      },
      "execution_count": null,
      "outputs": [
        {
          "output_type": "stream",
          "name": "stderr",
          "text": [
            "/usr/local/lib/python3.7/dist-packages/torch/utils/data/dataloader.py:481: UserWarning: This DataLoader will create 4 worker processes in total. Our suggested max number of worker in current system is 2, which is smaller than what this DataLoader is going to create. Please be aware that excessive worker creation might get DataLoader running slow or even freeze, lower the worker number to avoid potential slowness/freeze if necessary.\n",
            "  cpuset_checked))\n"
          ]
        },
        {
          "output_type": "stream",
          "name": "stdout",
          "text": [
            "Epoch 1/25 : Training loss: 0.0810 | Training Accuracy: 97.4733\n",
            "Epoch 2/25 : Training loss: 4.8240 | Training Accuracy: 38.3417\n",
            "Epoch 3/25 : Training loss: 0.3698 | Training Accuracy: 88.6017\n",
            "Epoch 4/25 : Training loss: 0.7500 | Training Accuracy: 82.0167\n",
            "Epoch 5/25 : Training loss: 1.0452 | Training Accuracy: 77.1450\n",
            "Epoch 6/25 : Training loss: 0.7599 | Training Accuracy: 80.6983\n",
            "Epoch 7/25 : Training loss: 0.5422 | Training Accuracy: 84.8883\n",
            "Epoch 8/25 : Training loss: 0.4766 | Training Accuracy: 86.5033\n",
            "Epoch 9/25 : Training loss: 0.4721 | Training Accuracy: 86.8750\n",
            "Epoch 10/25 : Training loss: 0.4793 | Training Accuracy: 87.0250\n",
            "Epoch 11/25 : Training loss: 0.4725 | Training Accuracy: 87.7467\n",
            "Epoch 12/25 : Training loss: 0.4517 | Training Accuracy: 88.9850\n",
            "Epoch 13/25 : Training loss: 0.4201 | Training Accuracy: 90.7183\n",
            "Epoch 14/25 : Training loss: 0.3804 | Training Accuracy: 92.3567\n",
            "Epoch 15/25 : Training loss: 0.3350 | Training Accuracy: 93.5767\n",
            "Epoch 16/25 : Training loss: 0.2897 | Training Accuracy: 94.3500\n",
            "Epoch 17/25 : Training loss: 0.2513 | Training Accuracy: 94.6200\n",
            "Epoch 18/25 : Training loss: 0.2222 | Training Accuracy: 94.6567\n",
            "Epoch 19/25 : Training loss: 0.2019 | Training Accuracy: 94.6533\n",
            "Epoch 20/25 : Training loss: 0.1867 | Training Accuracy: 94.7700\n",
            "Epoch 21/25 : Training loss: 0.1752 | Training Accuracy: 94.9400\n",
            "Epoch 22/25 : Training loss: 0.1692 | Training Accuracy: 95.0600\n",
            "Epoch 23/25 : Training loss: 0.1683 | Training Accuracy: 95.1150\n",
            "Epoch 24/25 : Training loss: 0.1666 | Training Accuracy: 95.2733\n",
            "Epoch 25/25 : Training loss: 0.1607 | Training Accuracy: 95.4850\n",
            "Epoch 1/25 : Training loss: 0.1526 | Training Accuracy: 95.7683\n",
            "Epoch 2/25 : Training loss: 0.1492 | Training Accuracy: 95.8400\n",
            "Epoch 3/25 : Training loss: 0.1466 | Training Accuracy: 95.9033\n",
            "Epoch 4/25 : Training loss: 0.1438 | Training Accuracy: 95.9650\n",
            "Epoch 5/25 : Training loss: 0.1417 | Training Accuracy: 95.9967\n",
            "Epoch 6/25 : Training loss: 0.1394 | Training Accuracy: 96.0283\n",
            "Epoch 7/25 : Training loss: 0.1376 | Training Accuracy: 96.0800\n",
            "Epoch 8/25 : Training loss: 0.1360 | Training Accuracy: 96.0983\n",
            "Epoch 9/25 : Training loss: 0.1342 | Training Accuracy: 96.1467\n",
            "Epoch 10/25 : Training loss: 0.1326 | Training Accuracy: 96.1733\n",
            "Epoch 11/25 : Training loss: 0.1308 | Training Accuracy: 96.1983\n",
            "Epoch 12/25 : Training loss: 0.1294 | Training Accuracy: 96.2117\n",
            "Epoch 13/25 : Training loss: 0.1278 | Training Accuracy: 96.2550\n",
            "Epoch 14/25 : Training loss: 0.1265 | Training Accuracy: 96.3033\n",
            "Epoch 15/25 : Training loss: 0.1251 | Training Accuracy: 96.3367\n",
            "Epoch 16/25 : Training loss: 0.1238 | Training Accuracy: 96.3733\n",
            "Epoch 17/25 : Training loss: 0.1223 | Training Accuracy: 96.4033\n",
            "Epoch 18/25 : Training loss: 0.1208 | Training Accuracy: 96.4417\n",
            "Epoch 19/25 : Training loss: 0.1195 | Training Accuracy: 96.4750\n",
            "Epoch 20/25 : Training loss: 0.1187 | Training Accuracy: 96.4967\n",
            "Epoch 21/25 : Training loss: 0.1175 | Training Accuracy: 96.5250\n",
            "Epoch 22/25 : Training loss: 0.1159 | Training Accuracy: 96.5583\n",
            "Epoch 23/25 : Training loss: 0.1148 | Training Accuracy: 96.5900\n",
            "Epoch 24/25 : Training loss: 0.1136 | Training Accuracy: 96.6150\n",
            "Epoch 25/25 : Training loss: 0.1126 | Training Accuracy: 96.6383\n",
            "Epoch 1/25 : Training loss: 0.1117 | Training Accuracy: 96.6583\n",
            "Epoch 2/25 : Training loss: 0.1115 | Training Accuracy: 96.6650\n",
            "Epoch 3/25 : Training loss: 0.1116 | Training Accuracy: 96.6683\n",
            "Epoch 4/25 : Training loss: 0.1116 | Training Accuracy: 96.6700\n",
            "Epoch 5/25 : Training loss: 0.1113 | Training Accuracy: 96.6683\n",
            "Epoch 6/25 : Training loss: 0.1115 | Training Accuracy: 96.6700\n",
            "Epoch 7/25 : Training loss: 0.1112 | Training Accuracy: 96.6717\n",
            "Epoch 8/25 : Training loss: 0.1111 | Training Accuracy: 96.6700\n",
            "Epoch 9/25 : Training loss: 0.1113 | Training Accuracy: 96.6700\n",
            "Epoch 10/25 : Training loss: 0.1111 | Training Accuracy: 96.6717\n",
            "Epoch 11/25 : Training loss: 0.1111 | Training Accuracy: 96.6750\n",
            "Epoch 12/25 : Training loss: 0.1111 | Training Accuracy: 96.6833\n",
            "Epoch 13/25 : Training loss: 0.1107 | Training Accuracy: 96.6867\n",
            "Epoch 14/25 : Training loss: 0.1108 | Training Accuracy: 96.6867\n",
            "Epoch 15/25 : Training loss: 0.1109 | Training Accuracy: 96.6867\n",
            "Epoch 16/25 : Training loss: 0.1108 | Training Accuracy: 96.6867\n",
            "Epoch 17/25 : Training loss: 0.1107 | Training Accuracy: 96.6867\n",
            "Epoch 18/25 : Training loss: 0.1107 | Training Accuracy: 96.6867\n",
            "Epoch 19/25 : Training loss: 0.1106 | Training Accuracy: 96.6917\n",
            "Epoch 20/25 : Training loss: 0.1106 | Training Accuracy: 96.6933\n",
            "Epoch 21/25 : Training loss: 0.1104 | Training Accuracy: 96.6950\n",
            "Epoch 22/25 : Training loss: 0.1102 | Training Accuracy: 96.6950\n",
            "Epoch 23/25 : Training loss: 0.1103 | Training Accuracy: 96.6950\n",
            "Epoch 24/25 : Training loss: 0.1104 | Training Accuracy: 96.6967\n",
            "Epoch 25/25 : Training loss: 0.1100 | Training Accuracy: 96.6967\n"
          ]
        },
        {
          "output_type": "display_data",
          "data": {
            "image/png": "[encoded data removed]",
            "text/plain": [
              "<Figure size 1080x360 with 2 Axes>"
            ]
          },
          "metadata": {
            "needs_background": "light"
          }
        },
        {
          "output_type": "display_data",
          "data": {
            "image/png": "[encoded data removed]",
            "text/plain": [
              "<Figure size 1080x360 with 2 Axes>"
            ]
          },
          "metadata": {
            "needs_background": "light"
          }
        },
        {
          "output_type": "display_data",
          "data": {
            "image/png": "[encoded data removed]",
            "text/plain": [
              "<Figure size 1080x360 with 2 Axes>"
            ]
          },
          "metadata": {
            "needs_background": "light"
          }
        }
      ]
    },
    {
      "cell_type": "markdown",
      "source": [
        "### For different loss functions"
      ],
      "metadata": {
        "id": "ad1J_5aNlbhm"
      }
    },
    {
      "cell_type": "code",
      "source": [
        "criterion = nn.MSELoss()\n",
        "learning_rate1 = 0.001\n",
        "optimizer1 = optim.Adam(net1.parameters(), lr=learning_rate1) # ADAM \n",
        "num_epochs = 25\n",
        "\n",
        "train_loss = []\n",
        "train_acc = []\n",
        "for epoch in range(num_epochs):\n",
        "    \n",
        "    running_loss = 0.0 \n",
        "    running_corr = 0\n",
        "        \n",
        "    for i,data in enumerate(trainLoader):\n",
        "        inputs,labels = data\n",
        "        if use_gpu:\n",
        "            inputs, labels = inputs.cuda(),labels.cuda() \n",
        "        # Initializing model gradients to zero\n",
        "        optimizer1.zero_grad() \n",
        "        # Data feed-forward through the network\n",
        "        outputs1 = net1(inputs)\n",
        "        # Predicted class is the one with maximum probability\n",
        "        preds1 = torch.argmax(outputs1,dim=1)\n",
        "        # Finding the loss\n",
        "        loss = criterion(outputs1, labels)\n",
        "        # Accumulating the loss for each batch\n",
        "        running_loss += loss \n",
        "        # Accumulate number of correct predictions\n",
        "        running_corr += torch.sum(preds1==labels)    \n",
        "        \n",
        "    totalLoss1 = running_loss/(i+1)\n",
        "    # Calculating gradients\n",
        "    totalLoss1.backward()\n",
        "    # Updating the model parameters\n",
        "    # Updating the model parameters\n",
        "    optimizer1.step()\n",
        "        \n",
        "    epoch_loss = running_loss.item()/(i+1)   #Total loss for one epoch\n",
        "    epoch_acc = running_corr.item()/60000\n",
        "    \n",
        "    \n",
        "         \n",
        "    train_loss.append(epoch_loss) #Saving the loss over epochs for plotting the graph\n",
        "    train_acc.append(epoch_acc) #Saving the accuracy over epochs for plotting the graph\n",
        "       \n",
        "        \n",
        "    print('Epoch {:.0f}/{:.0f} : Training loss: {:.4f} | Training Accuracy: {:.4f}'.format(epoch+1,num_epochs,epoch_loss,epoch_acc*100))\n",
        "fig = plt.figure(figsize=[15,5]) \n",
        "plt.subplot(121)\n",
        "plt.title(f\"Plot for Mean Squared Loss\")\n",
        "plt.plot(range(num_epochs),train_loss,'r-',label='Loss/error') \n",
        "plt.legend(loc='upper right')\n",
        "plt.xlabel('Epochs')\n",
        "plt.ylabel('Training')\n",
        "plt.subplot(122)\n",
        "plt.plot(range(num_epochs),train_acc,'g-',label='Accuracy') \n",
        "plt.legend(loc='upper right')\n",
        "plt.xlabel('Epochs')\n",
        "plt.ylabel('Training')"
      ],
      "metadata": {
        "colab": {
          "base_uri": "https://localhost:8080/",
          "height": 470
        },
        "id": "2ArRpnj3lt5h",
        "outputId": "5defcb29-93a5-4c79-b2d2-b2ee9e96f2eb"
      },
      "execution_count": null,
      "outputs": [
        {
          "output_type": "stream",
          "name": "stderr",
          "text": [
            "/usr/local/lib/python3.7/dist-packages/torch/utils/data/dataloader.py:481: UserWarning: This DataLoader will create 4 worker processes in total. Our suggested max number of worker in current system is 2, which is smaller than what this DataLoader is going to create. Please be aware that excessive worker creation might get DataLoader running slow or even freeze, lower the worker number to avoid potential slowness/freeze if necessary.\n",
            "  cpuset_checked))\n",
            "/usr/local/lib/python3.7/dist-packages/torch/nn/modules/loss.py:520: UserWarning: Using a target size (torch.Size([256])) that is different to the input size (torch.Size([256, 10])). This will likely lead to incorrect results due to broadcasting. Please ensure they have the same size.\n",
            "  return F.mse_loss(input, target, reduction=self.reduction)\n"
          ]
        },
        {
          "output_type": "error",
          "ename": "RuntimeError",
          "evalue": "ignored",
          "traceback": [
            "\u001b[0;31m---------------------------------------------------------------------------\u001b[0m",
            "\u001b[0;31mRuntimeError\u001b[0m                              Traceback (most recent call last)",
            "\u001b[0;32m<ipython-input-18-ed19c49ecfe9>\u001b[0m in \u001b[0;36m<module>\u001b[0;34m()\u001b[0m\n\u001b[1;32m     22\u001b[0m         \u001b[0mpreds1\u001b[0m \u001b[0;34m=\u001b[0m \u001b[0mtorch\u001b[0m\u001b[0;34m.\u001b[0m\u001b[0margmax\u001b[0m\u001b[0;34m(\u001b[0m\u001b[0moutputs1\u001b[0m\u001b[0;34m,\u001b[0m\u001b[0mdim\u001b[0m\u001b[0;34m=\u001b[0m\u001b[0;36m1\u001b[0m\u001b[0;34m)\u001b[0m\u001b[0;34m\u001b[0m\u001b[0;34m\u001b[0m\u001b[0m\n\u001b[1;32m     23\u001b[0m         \u001b[0;31m# Finding the loss\u001b[0m\u001b[0;34m\u001b[0m\u001b[0;34m\u001b[0m\u001b[0;34m\u001b[0m\u001b[0m\n\u001b[0;32m---> 24\u001b[0;31m         \u001b[0mloss\u001b[0m \u001b[0;34m=\u001b[0m \u001b[0mcriterion\u001b[0m\u001b[0;34m(\u001b[0m\u001b[0moutputs1\u001b[0m\u001b[0;34m,\u001b[0m \u001b[0mlabels\u001b[0m\u001b[0;34m)\u001b[0m\u001b[0;34m\u001b[0m\u001b[0;34m\u001b[0m\u001b[0m\n\u001b[0m\u001b[1;32m     25\u001b[0m         \u001b[0;31m# Accumulating the loss for each batch\u001b[0m\u001b[0;34m\u001b[0m\u001b[0;34m\u001b[0m\u001b[0;34m\u001b[0m\u001b[0m\n\u001b[1;32m     26\u001b[0m         \u001b[0mrunning_loss\u001b[0m \u001b[0;34m+=\u001b[0m \u001b[0mloss\u001b[0m\u001b[0;34m\u001b[0m\u001b[0;34m\u001b[0m\u001b[0m\n",
            "\u001b[0;32m/usr/local/lib/python3.7/dist-packages/torch/nn/modules/module.py\u001b[0m in \u001b[0;36m_call_impl\u001b[0;34m(self, *input, **kwargs)\u001b[0m\n\u001b[1;32m   1100\u001b[0m         if not (self._backward_hooks or self._forward_hooks or self._forward_pre_hooks or _global_backward_hooks\n\u001b[1;32m   1101\u001b[0m                 or _global_forward_hooks or _global_forward_pre_hooks):\n\u001b[0;32m-> 1102\u001b[0;31m             \u001b[0;32mreturn\u001b[0m \u001b[0mforward_call\u001b[0m\u001b[0;34m(\u001b[0m\u001b[0;34m*\u001b[0m\u001b[0minput\u001b[0m\u001b[0;34m,\u001b[0m \u001b[0;34m**\u001b[0m\u001b[0mkwargs\u001b[0m\u001b[0;34m)\u001b[0m\u001b[0;34m\u001b[0m\u001b[0;34m\u001b[0m\u001b[0m\n\u001b[0m\u001b[1;32m   1103\u001b[0m         \u001b[0;31m# Do not call functions when jit is used\u001b[0m\u001b[0;34m\u001b[0m\u001b[0;34m\u001b[0m\u001b[0;34m\u001b[0m\u001b[0m\n\u001b[1;32m   1104\u001b[0m         \u001b[0mfull_backward_hooks\u001b[0m\u001b[0;34m,\u001b[0m \u001b[0mnon_full_backward_hooks\u001b[0m \u001b[0;34m=\u001b[0m \u001b[0;34m[\u001b[0m\u001b[0;34m]\u001b[0m\u001b[0;34m,\u001b[0m \u001b[0;34m[\u001b[0m\u001b[0;34m]\u001b[0m\u001b[0;34m\u001b[0m\u001b[0;34m\u001b[0m\u001b[0m\n",
            "\u001b[0;32m/usr/local/lib/python3.7/dist-packages/torch/nn/modules/loss.py\u001b[0m in \u001b[0;36mforward\u001b[0;34m(self, input, target)\u001b[0m\n\u001b[1;32m    518\u001b[0m \u001b[0;34m\u001b[0m\u001b[0m\n\u001b[1;32m    519\u001b[0m     \u001b[0;32mdef\u001b[0m \u001b[0mforward\u001b[0m\u001b[0;34m(\u001b[0m\u001b[0mself\u001b[0m\u001b[0;34m,\u001b[0m \u001b[0minput\u001b[0m\u001b[0;34m:\u001b[0m \u001b[0mTensor\u001b[0m\u001b[0;34m,\u001b[0m \u001b[0mtarget\u001b[0m\u001b[0;34m:\u001b[0m \u001b[0mTensor\u001b[0m\u001b[0;34m)\u001b[0m \u001b[0;34m->\u001b[0m \u001b[0mTensor\u001b[0m\u001b[0;34m:\u001b[0m\u001b[0;34m\u001b[0m\u001b[0;34m\u001b[0m\u001b[0m\n\u001b[0;32m--> 520\u001b[0;31m         \u001b[0;32mreturn\u001b[0m \u001b[0mF\u001b[0m\u001b[0;34m.\u001b[0m\u001b[0mmse_loss\u001b[0m\u001b[0;34m(\u001b[0m\u001b[0minput\u001b[0m\u001b[0;34m,\u001b[0m \u001b[0mtarget\u001b[0m\u001b[0;34m,\u001b[0m \u001b[0mreduction\u001b[0m\u001b[0;34m=\u001b[0m\u001b[0mself\u001b[0m\u001b[0;34m.\u001b[0m\u001b[0mreduction\u001b[0m\u001b[0;34m)\u001b[0m\u001b[0;34m\u001b[0m\u001b[0;34m\u001b[0m\u001b[0m\n\u001b[0m\u001b[1;32m    521\u001b[0m \u001b[0;34m\u001b[0m\u001b[0m\n\u001b[1;32m    522\u001b[0m \u001b[0;34m\u001b[0m\u001b[0m\n",
            "\u001b[0;32m/usr/local/lib/python3.7/dist-packages/torch/nn/functional.py\u001b[0m in \u001b[0;36mmse_loss\u001b[0;34m(input, target, size_average, reduce, reduction)\u001b[0m\n\u001b[1;32m   3109\u001b[0m         \u001b[0mreduction\u001b[0m \u001b[0;34m=\u001b[0m \u001b[0m_Reduction\u001b[0m\u001b[0;34m.\u001b[0m\u001b[0mlegacy_get_string\u001b[0m\u001b[0;34m(\u001b[0m\u001b[0msize_average\u001b[0m\u001b[0;34m,\u001b[0m \u001b[0mreduce\u001b[0m\u001b[0;34m)\u001b[0m\u001b[0;34m\u001b[0m\u001b[0;34m\u001b[0m\u001b[0m\n\u001b[1;32m   3110\u001b[0m \u001b[0;34m\u001b[0m\u001b[0m\n\u001b[0;32m-> 3111\u001b[0;31m     \u001b[0mexpanded_input\u001b[0m\u001b[0;34m,\u001b[0m \u001b[0mexpanded_target\u001b[0m \u001b[0;34m=\u001b[0m \u001b[0mtorch\u001b[0m\u001b[0;34m.\u001b[0m\u001b[0mbroadcast_tensors\u001b[0m\u001b[0;34m(\u001b[0m\u001b[0minput\u001b[0m\u001b[0;34m,\u001b[0m \u001b[0mtarget\u001b[0m\u001b[0;34m)\u001b[0m\u001b[0;34m\u001b[0m\u001b[0;34m\u001b[0m\u001b[0m\n\u001b[0m\u001b[1;32m   3112\u001b[0m     \u001b[0;32mreturn\u001b[0m \u001b[0mtorch\u001b[0m\u001b[0;34m.\u001b[0m\u001b[0m_C\u001b[0m\u001b[0;34m.\u001b[0m\u001b[0m_nn\u001b[0m\u001b[0;34m.\u001b[0m\u001b[0mmse_loss\u001b[0m\u001b[0;34m(\u001b[0m\u001b[0mexpanded_input\u001b[0m\u001b[0;34m,\u001b[0m \u001b[0mexpanded_target\u001b[0m\u001b[0;34m,\u001b[0m \u001b[0m_Reduction\u001b[0m\u001b[0;34m.\u001b[0m\u001b[0mget_enum\u001b[0m\u001b[0;34m(\u001b[0m\u001b[0mreduction\u001b[0m\u001b[0;34m)\u001b[0m\u001b[0;34m)\u001b[0m\u001b[0;34m\u001b[0m\u001b[0;34m\u001b[0m\u001b[0m\n\u001b[1;32m   3113\u001b[0m \u001b[0;34m\u001b[0m\u001b[0m\n",
            "\u001b[0;32m/usr/local/lib/python3.7/dist-packages/torch/functional.py\u001b[0m in \u001b[0;36mbroadcast_tensors\u001b[0;34m(*tensors)\u001b[0m\n\u001b[1;32m     70\u001b[0m     \u001b[0;32mif\u001b[0m \u001b[0mhas_torch_function\u001b[0m\u001b[0;34m(\u001b[0m\u001b[0mtensors\u001b[0m\u001b[0;34m)\u001b[0m\u001b[0;34m:\u001b[0m\u001b[0;34m\u001b[0m\u001b[0;34m\u001b[0m\u001b[0m\n\u001b[1;32m     71\u001b[0m         \u001b[0;32mreturn\u001b[0m \u001b[0mhandle_torch_function\u001b[0m\u001b[0;34m(\u001b[0m\u001b[0mbroadcast_tensors\u001b[0m\u001b[0;34m,\u001b[0m \u001b[0mtensors\u001b[0m\u001b[0;34m,\u001b[0m \u001b[0;34m*\u001b[0m\u001b[0mtensors\u001b[0m\u001b[0;34m)\u001b[0m\u001b[0;34m\u001b[0m\u001b[0;34m\u001b[0m\u001b[0m\n\u001b[0;32m---> 72\u001b[0;31m     \u001b[0;32mreturn\u001b[0m \u001b[0m_VF\u001b[0m\u001b[0;34m.\u001b[0m\u001b[0mbroadcast_tensors\u001b[0m\u001b[0;34m(\u001b[0m\u001b[0mtensors\u001b[0m\u001b[0;34m)\u001b[0m  \u001b[0;31m# type: ignore[attr-defined]\u001b[0m\u001b[0;34m\u001b[0m\u001b[0;34m\u001b[0m\u001b[0m\n\u001b[0m\u001b[1;32m     73\u001b[0m \u001b[0;34m\u001b[0m\u001b[0m\n\u001b[1;32m     74\u001b[0m \u001b[0;34m\u001b[0m\u001b[0m\n",
            "\u001b[0;31mRuntimeError\u001b[0m: The size of tensor a (10) must match the size of tensor b (256) at non-singleton dimension 1"
          ]
        }
      ]
    },
    {
      "cell_type": "code",
      "execution_count": null,
      "metadata": {
        "colab": {
          "base_uri": "https://localhost:8080/",
          "height": 34
        },
        "id": "rxs1v0BcNa7e",
        "outputId": "031fd427-0a4a-48e3-ba93-0944f296b44a"
      },
      "outputs": [
        {
          "name": "stdout",
          "output_type": "stream",
          "text": [
            "Testing accuracy (Batch size=256, lr=0.1 =  96.61\n"
          ]
        }
      ],
      "source": [
        "correct_pred1=0\n",
        "for data in testLoader:\n",
        "    inputs,labels = data\n",
        "    if use_gpu:\n",
        "        inputs, labels = inputs.cuda(),labels.cuda()\n",
        "    # Feedforward train data batch through model\n",
        "    output = net1(inputs) \n",
        "    # Predicted class is the one with maximum probability\n",
        "    preds1 = torch.argmax(output,dim=1)\n",
        "    correct_pred1 += torch.sum(preds1==labels)\n",
        "\n",
        "test_accuracy = correct_pred1.item()/10000.0\n",
        "print('Testing accuracy (Batch size=256, lr=0.1 = ',test_accuracy*100) #for bathch1"
      ]
    },
    {
      "cell_type": "markdown",
      "source": [],
      "metadata": {
        "id": "DGTuXnBGlgfy"
      }
    },
    {
      "cell_type": "code",
      "execution_count": null,
      "metadata": {
        "colab": {
          "base_uri": "https://localhost:8080/",
          "height": 857
        },
        "id": "YUxl5VTtNz6-",
        "outputId": "2df3ca41-0e0c-4d59-dab0-4ac4abba46d1"
      },
      "outputs": [
        {
          "name": "stdout",
          "output_type": "stream",
          "text": [
            "Epoch 1/50 : Training loss: 2.3032 | Training Accuracy: 10.2250\n",
            "Epoch 2/50 : Training loss: 2.2704 | Training Accuracy: 9.7517\n",
            "Epoch 3/50 : Training loss: 2.1624 | Training Accuracy: 35.8283\n",
            "Epoch 4/50 : Training loss: 1.8515 | Training Accuracy: 44.3183\n",
            "Epoch 5/50 : Training loss: 1.5990 | Training Accuracy: 49.3683\n",
            "Epoch 6/50 : Training loss: 1.9866 | Training Accuracy: 38.2533\n",
            "Epoch 7/50 : Training loss: 1.3789 | Training Accuracy: 52.9950\n",
            "Epoch 8/50 : Training loss: 1.1332 | Training Accuracy: 63.6933\n",
            "Epoch 9/50 : Training loss: 1.1985 | Training Accuracy: 55.7800\n",
            "Epoch 10/50 : Training loss: 1.0598 | Training Accuracy: 64.2917\n",
            "Epoch 11/50 : Training loss: 0.8300 | Training Accuracy: 76.1850\n",
            "Epoch 12/50 : Training loss: 0.6736 | Training Accuracy: 79.7483\n",
            "Epoch 13/50 : Training loss: 0.6015 | Training Accuracy: 80.8333\n",
            "Epoch 14/50 : Training loss: 0.5841 | Training Accuracy: 79.7733\n",
            "Epoch 15/50 : Training loss: 0.5376 | Training Accuracy: 83.8483\n",
            "Epoch 16/50 : Training loss: 0.5272 | Training Accuracy: 84.4517\n",
            "Epoch 17/50 : Training loss: 0.4991 | Training Accuracy: 85.2117\n",
            "Epoch 18/50 : Training loss: 0.4448 | Training Accuracy: 87.4533\n",
            "Epoch 19/50 : Training loss: 0.4233 | Training Accuracy: 87.4950\n",
            "Epoch 20/50 : Training loss: 0.3683 | Training Accuracy: 89.1700\n",
            "Epoch 21/50 : Training loss: 0.3380 | Training Accuracy: 89.6650\n",
            "Epoch 22/50 : Training loss: 0.3073 | Training Accuracy: 90.8450\n",
            "Epoch 23/50 : Training loss: 0.3037 | Training Accuracy: 90.8183\n",
            "Epoch 24/50 : Training loss: 0.2823 | Training Accuracy: 91.7000\n",
            "Epoch 25/50 : Training loss: 0.2667 | Training Accuracy: 92.2017\n",
            "Epoch 26/50 : Training loss: 0.2529 | Training Accuracy: 92.5600\n",
            "Epoch 27/50 : Training loss: 0.2371 | Training Accuracy: 93.1000\n",
            "Epoch 28/50 : Training loss: 0.2278 | Training Accuracy: 93.2750\n",
            "Epoch 29/50 : Training loss: 0.2133 | Training Accuracy: 93.6400\n",
            "Epoch 30/50 : Training loss: 0.1992 | Training Accuracy: 93.9550\n",
            "Epoch 31/50 : Training loss: 0.1905 | Training Accuracy: 94.1300\n",
            "Epoch 32/50 : Training loss: 0.1809 | Training Accuracy: 94.4033\n",
            "Epoch 33/50 : Training loss: 0.1711 | Training Accuracy: 94.6400\n",
            "Epoch 34/50 : Training loss: 0.1667 | Training Accuracy: 94.8267\n",
            "Epoch 35/50 : Training loss: 0.1618 | Training Accuracy: 94.9900\n",
            "Epoch 36/50 : Training loss: 0.1538 | Training Accuracy: 95.2100\n",
            "Epoch 37/50 : Training loss: 0.1479 | Training Accuracy: 95.4250\n",
            "Epoch 38/50 : Training loss: 0.1436 | Training Accuracy: 95.5500\n",
            "Epoch 39/50 : Training loss: 0.1385 | Training Accuracy: 95.7233\n",
            "Epoch 40/50 : Training loss: 0.1340 | Training Accuracy: 95.8017\n",
            "Epoch 41/50 : Training loss: 0.1291 | Training Accuracy: 95.9800\n",
            "Epoch 42/50 : Training loss: 0.1232 | Training Accuracy: 96.1333\n",
            "Epoch 43/50 : Training loss: 0.1186 | Training Accuracy: 96.2300\n",
            "Epoch 44/50 : Training loss: 0.1150 | Training Accuracy: 96.3467\n",
            "Epoch 45/50 : Training loss: 0.1107 | Training Accuracy: 96.5033\n",
            "Epoch 46/50 : Training loss: 0.1077 | Training Accuracy: 96.6450\n",
            "Epoch 47/50 : Training loss: 0.1046 | Training Accuracy: 96.7933\n",
            "Epoch 48/50 : Training loss: 0.1006 | Training Accuracy: 96.8900\n",
            "Epoch 49/50 : Training loss: 0.0977 | Training Accuracy: 96.9933\n",
            "Epoch 50/50 : Training loss: 0.0946 | Training Accuracy: 97.0767\n"
          ]
        }
      ],
      "source": [
        "criterion = nn.CrossEntropyLoss() \n",
        "learning_rate2 = 0.01\n",
        "optimizer2 = optim.Adam(net2.parameters(), lr=learning_rate2) # ADAM \n",
        "num_epochs2 = 50\n",
        "\n",
        "train_loss2 = []\n",
        "train_acc2 = []\n",
        "for epoch in range(num_epochs2):\n",
        "    \n",
        "    running_loss = 0.0 \n",
        "    running_corr = 0\n",
        "        \n",
        "    for i,data in enumerate(trainLoader2):\n",
        "        inputs,labels = data\n",
        "        if use_gpu:\n",
        "            inputs, labels = inputs.cuda(),labels.cuda() \n",
        "        # Initializing model gradients to zero\n",
        "        optimizer2.zero_grad() \n",
        "        # Data feed-forward through the network\n",
        "        outputs2 = net2(inputs)\n",
        "        # Predicted class is the one with maximum probability\n",
        "        preds2 = torch.argmax(outputs2,dim=1)\n",
        "        # Finding the loss\n",
        "        loss = criterion(outputs2, labels)\n",
        "        # Accumulating the loss for each batch\n",
        "        running_loss += loss \n",
        "        # Accumulate number of correct predictions\n",
        "        running_corr += torch.sum(preds2==labels)    \n",
        "        \n",
        "    totalLoss2 = running_loss/(i+1)\n",
        "    # Calculating gradients\n",
        "    totalLoss2.backward()\n",
        "    # Updating the model parameters\n",
        "    # Updating the model parameters\n",
        "    optimizer2.step()\n",
        "        \n",
        "    epoch_loss = running_loss.item()/(i+1)   #Total loss for one epoch\n",
        "    epoch_acc = running_corr.item()/60000\n",
        "    \n",
        "    \n",
        "         \n",
        "    train_loss2.append(epoch_loss) #Saving the loss over epochs for plotting the graph\n",
        "    train_acc2.append(epoch_acc) #Saving the accuracy over epochs for plotting the graph\n",
        "       \n",
        "        \n",
        "    print('Epoch {:.0f}/{:.0f} : Training loss: {:.4f} | Training Accuracy: {:.4f}'.format(epoch+1,num_epochs2,epoch_loss,epoch_acc*100))"
      ]
    },
    {
      "cell_type": "code",
      "execution_count": null,
      "metadata": {
        "colab": {
          "base_uri": "https://localhost:8080/",
          "height": 351
        },
        "id": "W2XUgFxhs-aI",
        "outputId": "9ec5c57a-22b3-46de-d820-bce495aec720"
      },
      "outputs": [
        {
          "data": {
            "text/plain": [
              "Text(0, 0.5, 'Training Accuracy')"
            ]
          },
          "execution_count": 11,
          "metadata": {
            "tags": []
          },
          "output_type": "execute_result"
        },
        {
          "data": {
            "image/png": "[encoded data removed]",
            "text/plain": [
              "<Figure size 1080x360 with 2 Axes>"
            ]
          },
          "metadata": {
            "tags": []
          },
          "output_type": "display_data"
        }
      ],
      "source": [
        "fig = plt.figure(figsize=[15,5]) \n",
        "plt.subplot(121)\n",
        "plt.plot(range(num_epochs),train_loss,'r-',label='Batch size=256') \n",
        "plt.plot(range(num_epochs2),train_loss2,'r-',color='blue',label='Batch size=1024') \n",
        "\n",
        "plt.legend(loc='upper right')\n",
        "plt.xlabel('Epochs')\n",
        "plt.ylabel('Training loss/error')\n",
        "plt.subplot(122)\n",
        "plt.plot(range(num_epochs),train_acc,'g-',label='Batch size=256') \n",
        "plt.plot(range(num_epochs2),train_acc2,'g-', color='blue',label='Batch size=1024') #learning rate in both is same\n",
        " \n",
        "plt.legend(loc='upper right')\n",
        "plt.xlabel('Epochs')\n",
        "plt.ylabel('Training Accuracy')"
      ]
    },
    {
      "cell_type": "code",
      "execution_count": null,
      "metadata": {
        "colab": {
          "base_uri": "https://localhost:8080/",
          "height": 34
        },
        "id": "30vtBvaftbVB",
        "outputId": "328ceef0-6c0a-4e55-8b1a-b7fe01246528"
      },
      "outputs": [
        {
          "name": "stdout",
          "output_type": "stream",
          "text": [
            "Testing accuracy (Batch size=1024, lr=0.1) =  97.37\n"
          ]
        }
      ],
      "source": [
        "correct_pred2=0\n",
        "for data in testLoader2:\n",
        "    inputs,labels = data\n",
        "    if use_gpu:\n",
        "        inputs, labels = inputs.cuda(),labels.cuda()\n",
        "    # Feedforward train data batch through model\n",
        "    output = net2(inputs) \n",
        "    # Predicted class is the one with maximum probability\n",
        "    preds2 = torch.argmax(output,dim=1)\n",
        "    correct_pred2 += torch.sum(preds2==labels)\n",
        "\n",
        "test_accuracy2 = correct_pred2.item()/10000.0\n",
        "print('Testing accuracy (Batch size=1024, lr=0.1) = ',test_accuracy2*100) #for bathch1"
      ]
    },
    {
      "cell_type": "code",
      "execution_count": null,
      "metadata": {
        "colab": {
          "base_uri": "https://localhost:8080/",
          "height": 857
        },
        "id": "lLOMshOC0MtD",
        "outputId": "8a69969c-edc7-459d-89bf-f2d9da521996"
      },
      "outputs": [
        {
          "name": "stdout",
          "output_type": "stream",
          "text": [
            "Epoch 1/50 : Training loss: 2.3033 | Training Accuracy: 10.4417\n",
            "Epoch 2/50 : Training loss: 2.2997 | Training Accuracy: 10.4417\n",
            "Epoch 3/50 : Training loss: 2.2960 | Training Accuracy: 10.4417\n",
            "Epoch 4/50 : Training loss: 2.2917 | Training Accuracy: 10.4417\n",
            "Epoch 5/50 : Training loss: 2.2867 | Training Accuracy: 11.3933\n",
            "Epoch 6/50 : Training loss: 2.2807 | Training Accuracy: 17.0700\n",
            "Epoch 7/50 : Training loss: 2.2730 | Training Accuracy: 30.6200\n",
            "Epoch 8/50 : Training loss: 2.2635 | Training Accuracy: 37.1500\n",
            "Epoch 9/50 : Training loss: 2.2523 | Training Accuracy: 38.8483\n",
            "Epoch 10/50 : Training loss: 2.2386 | Training Accuracy: 40.0450\n",
            "Epoch 11/50 : Training loss: 2.2221 | Training Accuracy: 41.9050\n",
            "Epoch 12/50 : Training loss: 2.2025 | Training Accuracy: 43.8117\n",
            "Epoch 13/50 : Training loss: 2.1797 | Training Accuracy: 45.2633\n",
            "Epoch 14/50 : Training loss: 2.1534 | Training Accuracy: 46.2800\n",
            "Epoch 15/50 : Training loss: 2.1223 | Training Accuracy: 47.5783\n",
            "Epoch 16/50 : Training loss: 2.0864 | Training Accuracy: 49.5383\n",
            "Epoch 17/50 : Training loss: 2.0447 | Training Accuracy: 52.8350\n",
            "Epoch 18/50 : Training loss: 1.9970 | Training Accuracy: 56.9950\n",
            "Epoch 19/50 : Training loss: 1.9421 | Training Accuracy: 60.4933\n",
            "Epoch 20/50 : Training loss: 1.8797 | Training Accuracy: 62.7683\n",
            "Epoch 21/50 : Training loss: 1.8097 | Training Accuracy: 64.0267\n",
            "Epoch 22/50 : Training loss: 1.7325 | Training Accuracy: 64.6067\n",
            "Epoch 23/50 : Training loss: 1.6479 | Training Accuracy: 65.0033\n",
            "Epoch 24/50 : Training loss: 1.5569 | Training Accuracy: 65.5983\n",
            "Epoch 25/50 : Training loss: 1.4612 | Training Accuracy: 66.8550\n",
            "Epoch 26/50 : Training loss: 1.3624 | Training Accuracy: 69.0583\n",
            "Epoch 27/50 : Training loss: 1.2622 | Training Accuracy: 71.5917\n",
            "Epoch 28/50 : Training loss: 1.1633 | Training Accuracy: 73.8550\n",
            "Epoch 29/50 : Training loss: 1.0683 | Training Accuracy: 75.5383\n",
            "Epoch 30/50 : Training loss: 0.9792 | Training Accuracy: 76.5533\n",
            "Epoch 31/50 : Training loss: 0.8976 | Training Accuracy: 77.3333\n",
            "Epoch 32/50 : Training loss: 0.8249 | Training Accuracy: 78.0850\n",
            "Epoch 33/50 : Training loss: 0.7615 | Training Accuracy: 78.7650\n",
            "Epoch 34/50 : Training loss: 0.7069 | Training Accuracy: 79.4500\n",
            "Epoch 35/50 : Training loss: 0.6603 | Training Accuracy: 80.1317\n",
            "Epoch 36/50 : Training loss: 0.6210 | Training Accuracy: 80.8383\n",
            "Epoch 37/50 : Training loss: 0.5878 | Training Accuracy: 81.5983\n",
            "Epoch 38/50 : Training loss: 0.5591 | Training Accuracy: 82.4333\n",
            "Epoch 39/50 : Training loss: 0.5341 | Training Accuracy: 83.2883\n",
            "Epoch 40/50 : Training loss: 0.5116 | Training Accuracy: 84.0683\n",
            "Epoch 41/50 : Training loss: 0.4924 | Training Accuracy: 84.7083\n",
            "Epoch 42/50 : Training loss: 0.4754 | Training Accuracy: 85.5167\n",
            "Epoch 43/50 : Training loss: 0.4596 | Training Accuracy: 85.9650\n",
            "Epoch 44/50 : Training loss: 0.4473 | Training Accuracy: 86.5950\n",
            "Epoch 45/50 : Training loss: 0.4352 | Training Accuracy: 86.9533\n",
            "Epoch 46/50 : Training loss: 0.4216 | Training Accuracy: 87.6433\n",
            "Epoch 47/50 : Training loss: 0.4115 | Training Accuracy: 87.8917\n",
            "Epoch 48/50 : Training loss: 0.4017 | Training Accuracy: 88.1450\n",
            "Epoch 49/50 : Training loss: 0.3903 | Training Accuracy: 88.6550\n",
            "Epoch 50/50 : Training loss: 0.3827 | Training Accuracy: 88.9267\n"
          ]
        }
      ],
      "source": [
        "criterion = nn.CrossEntropyLoss() \n",
        "learning_rate3 = 0.001\n",
        "optimizer3 = optim.Adam(net3.parameters(), lr=learning_rate3) # ADAM \n",
        "num_epochs3 = 50\n",
        "\n",
        "train_loss3 = []\n",
        "train_acc3 = []\n",
        "for epoch in range(num_epochs3):\n",
        "    \n",
        "    running_loss = 0.0 \n",
        "    running_corr = 0\n",
        "        \n",
        "    for i,data in enumerate(trainLoader):\n",
        "        inputs,labels = data\n",
        "        if use_gpu:\n",
        "            inputs, labels = inputs.cuda(),labels.cuda() \n",
        "        # Initializing model gradients to zero\n",
        "        optimizer3.zero_grad() \n",
        "        # Data feed-forward through the network\n",
        "        outputs3 = net3(inputs)\n",
        "        # Predicted class is the one with maximum probability\n",
        "        preds3 = torch.argmax(outputs3,dim=1)\n",
        "        # Finding the loss\n",
        "        loss = criterion(outputs3, labels)\n",
        "        # Accumulating the loss for each batch\n",
        "        running_loss += loss \n",
        "        # Accumulate number of correct predictions\n",
        "        running_corr += torch.sum(preds3==labels)    \n",
        "        \n",
        "    totalLoss3 = running_loss/(i+1)\n",
        "    # Calculating gradients\n",
        "    totalLoss3.backward()\n",
        "    # Updating the model parameters\n",
        "    # Updating the model parameters\n",
        "    optimizer3.step()\n",
        "        \n",
        "    epoch_loss = running_loss.item()/(i+1)   #Total loss for one epoch\n",
        "    epoch_acc = running_corr.item()/60000\n",
        "    \n",
        "    \n",
        "         \n",
        "    train_loss3.append(epoch_loss) #Saving the loss over epochs for plotting the graph\n",
        "    train_acc3.append(epoch_acc) #Saving the accuracy over epochs for plotting the graph\n",
        "       \n",
        "        \n",
        "    print('Epoch {:.0f}/{:.0f} : Training loss: {:.4f} | Training Accuracy: {:.4f}'.format(epoch+1,num_epochs3,epoch_loss,epoch_acc*100))"
      ]
    },
    {
      "cell_type": "code",
      "execution_count": null,
      "metadata": {
        "colab": {
          "base_uri": "https://localhost:8080/",
          "height": 353
        },
        "id": "vjfNJdqN5B2f",
        "outputId": "d705e6f6-9342-40b8-8e3d-3bc82b43a699"
      },
      "outputs": [
        {
          "data": {
            "text/plain": [
              "Text(0, 0.5, 'Training Accuracy')"
            ]
          },
          "execution_count": 14,
          "metadata": {
            "tags": []
          },
          "output_type": "execute_result"
        },
        {
          "data": {
            "image/png": "[encoded data removed]",
            "text/plain": [
              "<Figure size 1080x360 with 2 Axes>"
            ]
          },
          "metadata": {
            "tags": []
          },
          "output_type": "display_data"
        }
      ],
      "source": [
        "fig = plt.figure(figsize=[15,5]) \n",
        "plt.subplot(121)\n",
        "plt.plot(range(num_epochs),train_loss,'r-',label='Batch size=256,lr=.01') \n",
        "plt.plot(range(num_epochs),train_loss3,'r-',color='blue',label='Batch size=256,lr=.001') \n",
        "\n",
        "plt.legend(loc='upper right')\n",
        "plt.xlabel('Epochs')\n",
        "plt.ylabel('Training loss/error')\n",
        "plt.subplot(122)\n",
        "plt.plot(range(num_epochs),train_acc,'g-',label='Batch size=256,lr=.01') \n",
        "plt.plot(range(num_epochs),train_acc3,'g-', color='blue',label='Batch size=256, lr=.001') \n",
        " \n",
        "plt.legend(loc='upper right')\n",
        "plt.xlabel('Epochs')\n",
        "plt.ylabel('Training Accuracy')"
      ]
    },
    {
      "cell_type": "code",
      "execution_count": null,
      "metadata": {
        "colab": {
          "base_uri": "https://localhost:8080/",
          "height": 34
        },
        "id": "TCUA_nxUt5mE",
        "outputId": "0548850c-e4c0-4ffa-b6da-742929e26ad0"
      },
      "outputs": [
        {
          "name": "stdout",
          "output_type": "stream",
          "text": [
            "Testing accuracy (Batch size=256, lr=.01) =  89.66\n"
          ]
        }
      ],
      "source": [
        "correct_pred3=0\n",
        "for data in testLoader:\n",
        "    inputs,labels = data\n",
        "    if use_gpu:\n",
        "        inputs, labels = inputs.cuda(),labels.cuda()\n",
        "    # Feedforward train data batch through model\n",
        "    output = net3(inputs) \n",
        "    # Predicted class is the one with maximum probability\n",
        "    preds3 = torch.argmax(output,dim=1)\n",
        "    correct_pred3 += torch.sum(preds3==labels)\n",
        "\n",
        "test_accuracy3 = correct_pred3.item()/10000.0\n",
        "print('Testing accuracy (Batch size=256, lr=.01) = ',test_accuracy3*100) #for bathch1"
      ]
    },
    {
      "cell_type": "code",
      "execution_count": null,
      "metadata": {
        "id": "52VNfHck9HHd"
      },
      "outputs": [],
      "source": []
    }
  ],
  "metadata": {
    "colab": {
      "collapsed_sections": [],
      "provenance": []
    },
    "kernelspec": {
      "display_name": "Python 3",
      "language": "python",
      "name": "python3"
    },
    "language_info": {
      "codemirror_mode": {
        "name": "ipython",
        "version": 3
      },
      "file_extension": ".py",
      "mimetype": "text/x-python",
      "name": "python",
      "nbconvert_exporter": "python",
      "pygments_lexer": "ipython3",
      "version": "3.7.6"
    },
    "widgets": {
      "application/vnd.jupyter.widget-state+json": {
        "647efc5f4ff6439d940d32f2b5100c28": {
          "model_module": "@jupyter-widgets/controls",
          "model_name": "HBoxModel",
          "model_module_version": "1.5.0",
          "state": {
            "_view_name": "HBoxView",
            "_dom_classes": [],
            "_model_name": "HBoxModel",
            "_view_module": "@jupyter-widgets/controls",
            "_model_module_version": "1.5.0",
            "_view_count": null,
            "_view_module_version": "1.5.0",
            "box_style": "",
            "layout": "IPY_MODEL_23e170fa60914ecda5c914975270a554",
            "_model_module": "@jupyter-widgets/controls",
            "children": [
              "IPY_MODEL_f23ed5998edc4d40af1f57b11a3d2f5c",
              "IPY_MODEL_6aa3d17f38af4c98acdd0264fc0c1f50",
              "IPY_MODEL_6d8e59ef161d49ab9baa87e9dec6983a"
            ]
          }
        },
        "23e170fa60914ecda5c914975270a554": {
          "model_module": "@jupyter-widgets/base",
          "model_name": "LayoutModel",
          "model_module_version": "1.2.0",
          "state": {
            "_view_name": "LayoutView",
            "grid_template_rows": null,
            "right": null,
            "justify_content": null,
            "_view_module": "@jupyter-widgets/base",
            "overflow": null,
            "_model_module_version": "1.2.0",
            "_view_count": null,
            "flex_flow": null,
            "width": null,
            "min_width": null,
            "border": null,
            "align_items": null,
            "bottom": null,
            "_model_module": "@jupyter-widgets/base",
            "top": null,
            "grid_column": null,
            "overflow_y": null,
            "overflow_x": null,
            "grid_auto_flow": null,
            "grid_area": null,
            "grid_template_columns": null,
            "flex": null,
            "_model_name": "LayoutModel",
            "justify_items": null,
            "grid_row": null,
            "max_height": null,
            "align_content": null,
            "visibility": null,
            "align_self": null,
            "height": null,
            "min_height": null,
            "padding": null,
            "grid_auto_rows": null,
            "grid_gap": null,
            "max_width": null,
            "order": null,
            "_view_module_version": "1.2.0",
            "grid_template_areas": null,
            "object_position": null,
            "object_fit": null,
            "grid_auto_columns": null,
            "margin": null,
            "display": null,
            "left": null
          }
        },
        "f23ed5998edc4d40af1f57b11a3d2f5c": {
          "model_module": "@jupyter-widgets/controls",
          "model_name": "HTMLModel",
          "model_module_version": "1.5.0",
          "state": {
            "_view_name": "HTMLView",
            "style": "IPY_MODEL_5d2c05fbcd614b8aa7d55d68b1cdfd61",
            "_dom_classes": [],
            "description": "",
            "_model_name": "HTMLModel",
            "placeholder": "​",
            "_view_module": "@jupyter-widgets/controls",
            "_model_module_version": "1.5.0",
            "value": "",
            "_view_count": null,
            "_view_module_version": "1.5.0",
            "description_tooltip": null,
            "_model_module": "@jupyter-widgets/controls",
            "layout": "IPY_MODEL_f890a55f8a39474b9eb5adb7704ef2d1"
          }
        },
        "6aa3d17f38af4c98acdd0264fc0c1f50": {
          "model_module": "@jupyter-widgets/controls",
          "model_name": "FloatProgressModel",
          "model_module_version": "1.5.0",
          "state": {
            "_view_name": "ProgressView",
            "style": "IPY_MODEL_f3adb220708740caa8d4b8e59a877731",
            "_dom_classes": [],
            "description": "",
            "_model_name": "FloatProgressModel",
            "bar_style": "success",
            "max": 9912422,
            "_view_module": "@jupyter-widgets/controls",
            "_model_module_version": "1.5.0",
            "value": 9912422,
            "_view_count": null,
            "_view_module_version": "1.5.0",
            "orientation": "horizontal",
            "min": 0,
            "description_tooltip": null,
            "_model_module": "@jupyter-widgets/controls",
            "layout": "IPY_MODEL_4d889b31434542e4b2815855e550e244"
          }
        },
        "6d8e59ef161d49ab9baa87e9dec6983a": {
          "model_module": "@jupyter-widgets/controls",
          "model_name": "HTMLModel",
          "model_module_version": "1.5.0",
          "state": {
            "_view_name": "HTMLView",
            "style": "IPY_MODEL_92b8b478168e42a5bed170619d0fd685",
            "_dom_classes": [],
            "description": "",
            "_model_name": "HTMLModel",
            "placeholder": "​",
            "_view_module": "@jupyter-widgets/controls",
            "_model_module_version": "1.5.0",
            "value": " 9913344/? [00:00&lt;00:00, 19206604.95it/s]",
            "_view_count": null,
            "_view_module_version": "1.5.0",
            "description_tooltip": null,
            "_model_module": "@jupyter-widgets/controls",
            "layout": "IPY_MODEL_5e3d7f744a58441a8cc85f26b000bd4d"
          }
        },
        "5d2c05fbcd614b8aa7d55d68b1cdfd61": {
          "model_module": "@jupyter-widgets/controls",
          "model_name": "DescriptionStyleModel",
          "model_module_version": "1.5.0",
          "state": {
            "_view_name": "StyleView",
            "_model_name": "DescriptionStyleModel",
            "description_width": "",
            "_view_module": "@jupyter-widgets/base",
            "_model_module_version": "1.5.0",
            "_view_count": null,
            "_view_module_version": "1.2.0",
            "_model_module": "@jupyter-widgets/controls"
          }
        },
        "f890a55f8a39474b9eb5adb7704ef2d1": {
          "model_module": "@jupyter-widgets/base",
          "model_name": "LayoutModel",
          "model_module_version": "1.2.0",
          "state": {
            "_view_name": "LayoutView",
            "grid_template_rows": null,
            "right": null,
            "justify_content": null,
            "_view_module": "@jupyter-widgets/base",
            "overflow": null,
            "_model_module_version": "1.2.0",
            "_view_count": null,
            "flex_flow": null,
            "width": null,
            "min_width": null,
            "border": null,
            "align_items": null,
            "bottom": null,
            "_model_module": "@jupyter-widgets/base",
            "top": null,
            "grid_column": null,
            "overflow_y": null,
            "overflow_x": null,
            "grid_auto_flow": null,
            "grid_area": null,
            "grid_template_columns": null,
            "flex": null,
            "_model_name": "LayoutModel",
            "justify_items": null,
            "grid_row": null,
            "max_height": null,
            "align_content": null,
            "visibility": null,
            "align_self": null,
            "height": null,
            "min_height": null,
            "padding": null,
            "grid_auto_rows": null,
            "grid_gap": null,
            "max_width": null,
            "order": null,
            "_view_module_version": "1.2.0",
            "grid_template_areas": null,
            "object_position": null,
            "object_fit": null,
            "grid_auto_columns": null,
            "margin": null,
            "display": null,
            "left": null
          }
        },
        "f3adb220708740caa8d4b8e59a877731": {
          "model_module": "@jupyter-widgets/controls",
          "model_name": "ProgressStyleModel",
          "model_module_version": "1.5.0",
          "state": {
            "_view_name": "StyleView",
            "_model_name": "ProgressStyleModel",
            "description_width": "",
            "_view_module": "@jupyter-widgets/base",
            "_model_module_version": "1.5.0",
            "_view_count": null,
            "_view_module_version": "1.2.0",
            "bar_color": null,
            "_model_module": "@jupyter-widgets/controls"
          }
        },
        "4d889b31434542e4b2815855e550e244": {
          "model_module": "@jupyter-widgets/base",
          "model_name": "LayoutModel",
          "model_module_version": "1.2.0",
          "state": {
            "_view_name": "LayoutView",
            "grid_template_rows": null,
            "right": null,
            "justify_content": null,
            "_view_module": "@jupyter-widgets/base",
            "overflow": null,
            "_model_module_version": "1.2.0",
            "_view_count": null,
            "flex_flow": null,
            "width": null,
            "min_width": null,
            "border": null,
            "align_items": null,
            "bottom": null,
            "_model_module": "@jupyter-widgets/base",
            "top": null,
            "grid_column": null,
            "overflow_y": null,
            "overflow_x": null,
            "grid_auto_flow": null,
            "grid_area": null,
            "grid_template_columns": null,
            "flex": null,
            "_model_name": "LayoutModel",
            "justify_items": null,
            "grid_row": null,
            "max_height": null,
            "align_content": null,
            "visibility": null,
            "align_self": null,
            "height": null,
            "min_height": null,
            "padding": null,
            "grid_auto_rows": null,
            "grid_gap": null,
            "max_width": null,
            "order": null,
            "_view_module_version": "1.2.0",
            "grid_template_areas": null,
            "object_position": null,
            "object_fit": null,
            "grid_auto_columns": null,
            "margin": null,
            "display": null,
            "left": null
          }
        },
        "92b8b478168e42a5bed170619d0fd685": {
          "model_module": "@jupyter-widgets/controls",
          "model_name": "DescriptionStyleModel",
          "model_module_version": "1.5.0",
          "state": {
            "_view_name": "StyleView",
            "_model_name": "DescriptionStyleModel",
            "description_width": "",
            "_view_module": "@jupyter-widgets/base",
            "_model_module_version": "1.5.0",
            "_view_count": null,
            "_view_module_version": "1.2.0",
            "_model_module": "@jupyter-widgets/controls"
          }
        },
        "5e3d7f744a58441a8cc85f26b000bd4d": {
          "model_module": "@jupyter-widgets/base",
          "model_name": "LayoutModel",
          "model_module_version": "1.2.0",
          "state": {
            "_view_name": "LayoutView",
            "grid_template_rows": null,
            "right": null,
            "justify_content": null,
            "_view_module": "@jupyter-widgets/base",
            "overflow": null,
            "_model_module_version": "1.2.0",
            "_view_count": null,
            "flex_flow": null,
            "width": null,
            "min_width": null,
            "border": null,
            "align_items": null,
            "bottom": null,
            "_model_module": "@jupyter-widgets/base",
            "top": null,
            "grid_column": null,
            "overflow_y": null,
            "overflow_x": null,
            "grid_auto_flow": null,
            "grid_area": null,
            "grid_template_columns": null,
            "flex": null,
            "_model_name": "LayoutModel",
            "justify_items": null,
            "grid_row": null,
            "max_height": null,
            "align_content": null,
            "visibility": null,
            "align_self": null,
            "height": null,
            "min_height": null,
            "padding": null,
            "grid_auto_rows": null,
            "grid_gap": null,
            "max_width": null,
            "order": null,
            "_view_module_version": "1.2.0",
            "grid_template_areas": null,
            "object_position": null,
            "object_fit": null,
            "grid_auto_columns": null,
            "margin": null,
            "display": null,
            "left": null
          }
        },
        "010165d3c5fa4aa0a884d9651f96ed12": {
          "model_module": "@jupyter-widgets/controls",
          "model_name": "HBoxModel",
          "model_module_version": "1.5.0",
          "state": {
            "_view_name": "HBoxView",
            "_dom_classes": [],
            "_model_name": "HBoxModel",
            "_view_module": "@jupyter-widgets/controls",
            "_model_module_version": "1.5.0",
            "_view_count": null,
            "_view_module_version": "1.5.0",
            "box_style": "",
            "layout": "IPY_MODEL_2312ba53964e489389bd55e67f8a4ca8",
            "_model_module": "@jupyter-widgets/controls",
            "children": [
              "IPY_MODEL_02b3cb3d3f3b41f09bb919913ee818cc",
              "IPY_MODEL_c1ec37020a0d4342bc238850c901408b",
              "IPY_MODEL_4377742e79ef4e03ad0afa1d7b809353"
            ]
          }
        },
        "2312ba53964e489389bd55e67f8a4ca8": {
          "model_module": "@jupyter-widgets/base",
          "model_name": "LayoutModel",
          "model_module_version": "1.2.0",
          "state": {
            "_view_name": "LayoutView",
            "grid_template_rows": null,
            "right": null,
            "justify_content": null,
            "_view_module": "@jupyter-widgets/base",
            "overflow": null,
            "_model_module_version": "1.2.0",
            "_view_count": null,
            "flex_flow": null,
            "width": null,
            "min_width": null,
            "border": null,
            "align_items": null,
            "bottom": null,
            "_model_module": "@jupyter-widgets/base",
            "top": null,
            "grid_column": null,
            "overflow_y": null,
            "overflow_x": null,
            "grid_auto_flow": null,
            "grid_area": null,
            "grid_template_columns": null,
            "flex": null,
            "_model_name": "LayoutModel",
            "justify_items": null,
            "grid_row": null,
            "max_height": null,
            "align_content": null,
            "visibility": null,
            "align_self": null,
            "height": null,
            "min_height": null,
            "padding": null,
            "grid_auto_rows": null,
            "grid_gap": null,
            "max_width": null,
            "order": null,
            "_view_module_version": "1.2.0",
            "grid_template_areas": null,
            "object_position": null,
            "object_fit": null,
            "grid_auto_columns": null,
            "margin": null,
            "display": null,
            "left": null
          }
        },
        "02b3cb3d3f3b41f09bb919913ee818cc": {
          "model_module": "@jupyter-widgets/controls",
          "model_name": "HTMLModel",
          "model_module_version": "1.5.0",
          "state": {
            "_view_name": "HTMLView",
            "style": "IPY_MODEL_dfc4c05395624b29af51eb00be35c556",
            "_dom_classes": [],
            "description": "",
            "_model_name": "HTMLModel",
            "placeholder": "​",
            "_view_module": "@jupyter-widgets/controls",
            "_model_module_version": "1.5.0",
            "value": "",
            "_view_count": null,
            "_view_module_version": "1.5.0",
            "description_tooltip": null,
            "_model_module": "@jupyter-widgets/controls",
            "layout": "IPY_MODEL_98debbd68a2e401f8a83986d2628c91b"
          }
        },
        "c1ec37020a0d4342bc238850c901408b": {
          "model_module": "@jupyter-widgets/controls",
          "model_name": "FloatProgressModel",
          "model_module_version": "1.5.0",
          "state": {
            "_view_name": "ProgressView",
            "style": "IPY_MODEL_f13ce9c45cc5411ca56f3d1aea069e1e",
            "_dom_classes": [],
            "description": "",
            "_model_name": "FloatProgressModel",
            "bar_style": "success",
            "max": 28881,
            "_view_module": "@jupyter-widgets/controls",
            "_model_module_version": "1.5.0",
            "value": 28881,
            "_view_count": null,
            "_view_module_version": "1.5.0",
            "orientation": "horizontal",
            "min": 0,
            "description_tooltip": null,
            "_model_module": "@jupyter-widgets/controls",
            "layout": "IPY_MODEL_1a21acca1e3d4d6d8e872f204da9ad15"
          }
        },
        "4377742e79ef4e03ad0afa1d7b809353": {
          "model_module": "@jupyter-widgets/controls",
          "model_name": "HTMLModel",
          "model_module_version": "1.5.0",
          "state": {
            "_view_name": "HTMLView",
            "style": "IPY_MODEL_9a988a48501b4483ad696822dc737690",
            "_dom_classes": [],
            "description": "",
            "_model_name": "HTMLModel",
            "placeholder": "​",
            "_view_module": "@jupyter-widgets/controls",
            "_model_module_version": "1.5.0",
            "value": " 29696/? [00:00&lt;00:00, 990962.30it/s]",
            "_view_count": null,
            "_view_module_version": "1.5.0",
            "description_tooltip": null,
            "_model_module": "@jupyter-widgets/controls",
            "layout": "IPY_MODEL_a52a8615c7284d03954ea2ad1a82f1bc"
          }
        },
        "dfc4c05395624b29af51eb00be35c556": {
          "model_module": "@jupyter-widgets/controls",
          "model_name": "DescriptionStyleModel",
          "model_module_version": "1.5.0",
          "state": {
            "_view_name": "StyleView",
            "_model_name": "DescriptionStyleModel",
            "description_width": "",
            "_view_module": "@jupyter-widgets/base",
            "_model_module_version": "1.5.0",
            "_view_count": null,
            "_view_module_version": "1.2.0",
            "_model_module": "@jupyter-widgets/controls"
          }
        },
        "98debbd68a2e401f8a83986d2628c91b": {
          "model_module": "@jupyter-widgets/base",
          "model_name": "LayoutModel",
          "model_module_version": "1.2.0",
          "state": {
            "_view_name": "LayoutView",
            "grid_template_rows": null,
            "right": null,
            "justify_content": null,
            "_view_module": "@jupyter-widgets/base",
            "overflow": null,
            "_model_module_version": "1.2.0",
            "_view_count": null,
            "flex_flow": null,
            "width": null,
            "min_width": null,
            "border": null,
            "align_items": null,
            "bottom": null,
            "_model_module": "@jupyter-widgets/base",
            "top": null,
            "grid_column": null,
            "overflow_y": null,
            "overflow_x": null,
            "grid_auto_flow": null,
            "grid_area": null,
            "grid_template_columns": null,
            "flex": null,
            "_model_name": "LayoutModel",
            "justify_items": null,
            "grid_row": null,
            "max_height": null,
            "align_content": null,
            "visibility": null,
            "align_self": null,
            "height": null,
            "min_height": null,
            "padding": null,
            "grid_auto_rows": null,
            "grid_gap": null,
            "max_width": null,
            "order": null,
            "_view_module_version": "1.2.0",
            "grid_template_areas": null,
            "object_position": null,
            "object_fit": null,
            "grid_auto_columns": null,
            "margin": null,
            "display": null,
            "left": null
          }
        },
        "f13ce9c45cc5411ca56f3d1aea069e1e": {
          "model_module": "@jupyter-widgets/controls",
          "model_name": "ProgressStyleModel",
          "model_module_version": "1.5.0",
          "state": {
            "_view_name": "StyleView",
            "_model_name": "ProgressStyleModel",
            "description_width": "",
            "_view_module": "@jupyter-widgets/base",
            "_model_module_version": "1.5.0",
            "_view_count": null,
            "_view_module_version": "1.2.0",
            "bar_color": null,
            "_model_module": "@jupyter-widgets/controls"
          }
        },
        "1a21acca1e3d4d6d8e872f204da9ad15": {
          "model_module": "@jupyter-widgets/base",
          "model_name": "LayoutModel",
          "model_module_version": "1.2.0",
          "state": {
            "_view_name": "LayoutView",
            "grid_template_rows": null,
            "right": null,
            "justify_content": null,
            "_view_module": "@jupyter-widgets/base",
            "overflow": null,
            "_model_module_version": "1.2.0",
            "_view_count": null,
            "flex_flow": null,
            "width": null,
            "min_width": null,
            "border": null,
            "align_items": null,
            "bottom": null,
            "_model_module": "@jupyter-widgets/base",
            "top": null,
            "grid_column": null,
            "overflow_y": null,
            "overflow_x": null,
            "grid_auto_flow": null,
            "grid_area": null,
            "grid_template_columns": null,
            "flex": null,
            "_model_name": "LayoutModel",
            "justify_items": null,
            "grid_row": null,
            "max_height": null,
            "align_content": null,
            "visibility": null,
            "align_self": null,
            "height": null,
            "min_height": null,
            "padding": null,
            "grid_auto_rows": null,
            "grid_gap": null,
            "max_width": null,
            "order": null,
            "_view_module_version": "1.2.0",
            "grid_template_areas": null,
            "object_position": null,
            "object_fit": null,
            "grid_auto_columns": null,
            "margin": null,
            "display": null,
            "left": null
          }
        },
        "9a988a48501b4483ad696822dc737690": {
          "model_module": "@jupyter-widgets/controls",
          "model_name": "DescriptionStyleModel",
          "model_module_version": "1.5.0",
          "state": {
            "_view_name": "StyleView",
            "_model_name": "DescriptionStyleModel",
            "description_width": "",
            "_view_module": "@jupyter-widgets/base",
            "_model_module_version": "1.5.0",
            "_view_count": null,
            "_view_module_version": "1.2.0",
            "_model_module": "@jupyter-widgets/controls"
          }
        },
        "a52a8615c7284d03954ea2ad1a82f1bc": {
          "model_module": "@jupyter-widgets/base",
          "model_name": "LayoutModel",
          "model_module_version": "1.2.0",
          "state": {
            "_view_name": "LayoutView",
            "grid_template_rows": null,
            "right": null,
            "justify_content": null,
            "_view_module": "@jupyter-widgets/base",
            "overflow": null,
            "_model_module_version": "1.2.0",
            "_view_count": null,
            "flex_flow": null,
            "width": null,
            "min_width": null,
            "border": null,
            "align_items": null,
            "bottom": null,
            "_model_module": "@jupyter-widgets/base",
            "top": null,
            "grid_column": null,
            "overflow_y": null,
            "overflow_x": null,
            "grid_auto_flow": null,
            "grid_area": null,
            "grid_template_columns": null,
            "flex": null,
            "_model_name": "LayoutModel",
            "justify_items": null,
            "grid_row": null,
            "max_height": null,
            "align_content": null,
            "visibility": null,
            "align_self": null,
            "height": null,
            "min_height": null,
            "padding": null,
            "grid_auto_rows": null,
            "grid_gap": null,
            "max_width": null,
            "order": null,
            "_view_module_version": "1.2.0",
            "grid_template_areas": null,
            "object_position": null,
            "object_fit": null,
            "grid_auto_columns": null,
            "margin": null,
            "display": null,
            "left": null
          }
        },
        "d45c5239ff9247278b1a05bc26270de9": {
          "model_module": "@jupyter-widgets/controls",
          "model_name": "HBoxModel",
          "model_module_version": "1.5.0",
          "state": {
            "_view_name": "HBoxView",
            "_dom_classes": [],
            "_model_name": "HBoxModel",
            "_view_module": "@jupyter-widgets/controls",
            "_model_module_version": "1.5.0",
            "_view_count": null,
            "_view_module_version": "1.5.0",
            "box_style": "",
            "layout": "IPY_MODEL_05aa32f0a5934d7a855255b9a9b08d15",
            "_model_module": "@jupyter-widgets/controls",
            "children": [
              "IPY_MODEL_741e9b96ced04bca8a1cdb03cf415dfb",
              "IPY_MODEL_68bba6c01fa1477ab925b6453a4756ba",
              "IPY_MODEL_d769ac861eea4424b0459bbaaeace3f4"
            ]
          }
        },
        "05aa32f0a5934d7a855255b9a9b08d15": {
          "model_module": "@jupyter-widgets/base",
          "model_name": "LayoutModel",
          "model_module_version": "1.2.0",
          "state": {
            "_view_name": "LayoutView",
            "grid_template_rows": null,
            "right": null,
            "justify_content": null,
            "_view_module": "@jupyter-widgets/base",
            "overflow": null,
            "_model_module_version": "1.2.0",
            "_view_count": null,
            "flex_flow": null,
            "width": null,
            "min_width": null,
            "border": null,
            "align_items": null,
            "bottom": null,
            "_model_module": "@jupyter-widgets/base",
            "top": null,
            "grid_column": null,
            "overflow_y": null,
            "overflow_x": null,
            "grid_auto_flow": null,
            "grid_area": null,
            "grid_template_columns": null,
            "flex": null,
            "_model_name": "LayoutModel",
            "justify_items": null,
            "grid_row": null,
            "max_height": null,
            "align_content": null,
            "visibility": null,
            "align_self": null,
            "height": null,
            "min_height": null,
            "padding": null,
            "grid_auto_rows": null,
            "grid_gap": null,
            "max_width": null,
            "order": null,
            "_view_module_version": "1.2.0",
            "grid_template_areas": null,
            "object_position": null,
            "object_fit": null,
            "grid_auto_columns": null,
            "margin": null,
            "display": null,
            "left": null
          }
        },
        "741e9b96ced04bca8a1cdb03cf415dfb": {
          "model_module": "@jupyter-widgets/controls",
          "model_name": "HTMLModel",
          "model_module_version": "1.5.0",
          "state": {
            "_view_name": "HTMLView",
            "style": "IPY_MODEL_9cce76bea3504f72a2f510fcff7507fe",
            "_dom_classes": [],
            "description": "",
            "_model_name": "HTMLModel",
            "placeholder": "​",
            "_view_module": "@jupyter-widgets/controls",
            "_model_module_version": "1.5.0",
            "value": "",
            "_view_count": null,
            "_view_module_version": "1.5.0",
            "description_tooltip": null,
            "_model_module": "@jupyter-widgets/controls",
            "layout": "IPY_MODEL_5133d23937594d2c8e1b824cb1bdb1e5"
          }
        },
        "68bba6c01fa1477ab925b6453a4756ba": {
          "model_module": "@jupyter-widgets/controls",
          "model_name": "FloatProgressModel",
          "model_module_version": "1.5.0",
          "state": {
            "_view_name": "ProgressView",
            "style": "IPY_MODEL_724ec99dbc1f457ca1530ef4d704ff25",
            "_dom_classes": [],
            "description": "",
            "_model_name": "FloatProgressModel",
            "bar_style": "success",
            "max": 1648877,
            "_view_module": "@jupyter-widgets/controls",
            "_model_module_version": "1.5.0",
            "value": 1648877,
            "_view_count": null,
            "_view_module_version": "1.5.0",
            "orientation": "horizontal",
            "min": 0,
            "description_tooltip": null,
            "_model_module": "@jupyter-widgets/controls",
            "layout": "IPY_MODEL_20423c5bdd76459abef63b591e3042ff"
          }
        },
        "d769ac861eea4424b0459bbaaeace3f4": {
          "model_module": "@jupyter-widgets/controls",
          "model_name": "HTMLModel",
          "model_module_version": "1.5.0",
          "state": {
            "_view_name": "HTMLView",
            "style": "IPY_MODEL_614c6c92943a4507b6d85098a94f7320",
            "_dom_classes": [],
            "description": "",
            "_model_name": "HTMLModel",
            "placeholder": "​",
            "_view_module": "@jupyter-widgets/controls",
            "_model_module_version": "1.5.0",
            "value": " 1649664/? [00:00&lt;00:00, 20830776.29it/s]",
            "_view_count": null,
            "_view_module_version": "1.5.0",
            "description_tooltip": null,
            "_model_module": "@jupyter-widgets/controls",
            "layout": "IPY_MODEL_cc73131ae22144518b28d04ac034fb28"
          }
        },
        "9cce76bea3504f72a2f510fcff7507fe": {
          "model_module": "@jupyter-widgets/controls",
          "model_name": "DescriptionStyleModel",
          "model_module_version": "1.5.0",
          "state": {
            "_view_name": "StyleView",
            "_model_name": "DescriptionStyleModel",
            "description_width": "",
            "_view_module": "@jupyter-widgets/base",
            "_model_module_version": "1.5.0",
            "_view_count": null,
            "_view_module_version": "1.2.0",
            "_model_module": "@jupyter-widgets/controls"
          }
        },
        "5133d23937594d2c8e1b824cb1bdb1e5": {
          "model_module": "@jupyter-widgets/base",
          "model_name": "LayoutModel",
          "model_module_version": "1.2.0",
          "state": {
            "_view_name": "LayoutView",
            "grid_template_rows": null,
            "right": null,
            "justify_content": null,
            "_view_module": "@jupyter-widgets/base",
            "overflow": null,
            "_model_module_version": "1.2.0",
            "_view_count": null,
            "flex_flow": null,
            "width": null,
            "min_width": null,
            "border": null,
            "align_items": null,
            "bottom": null,
            "_model_module": "@jupyter-widgets/base",
            "top": null,
            "grid_column": null,
            "overflow_y": null,
            "overflow_x": null,
            "grid_auto_flow": null,
            "grid_area": null,
            "grid_template_columns": null,
            "flex": null,
            "_model_name": "LayoutModel",
            "justify_items": null,
            "grid_row": null,
            "max_height": null,
            "align_content": null,
            "visibility": null,
            "align_self": null,
            "height": null,
            "min_height": null,
            "padding": null,
            "grid_auto_rows": null,
            "grid_gap": null,
            "max_width": null,
            "order": null,
            "_view_module_version": "1.2.0",
            "grid_template_areas": null,
            "object_position": null,
            "object_fit": null,
            "grid_auto_columns": null,
            "margin": null,
            "display": null,
            "left": null
          }
        },
        "724ec99dbc1f457ca1530ef4d704ff25": {
          "model_module": "@jupyter-widgets/controls",
          "model_name": "ProgressStyleModel",
          "model_module_version": "1.5.0",
          "state": {
            "_view_name": "StyleView",
            "_model_name": "ProgressStyleModel",
            "description_width": "",
            "_view_module": "@jupyter-widgets/base",
            "_model_module_version": "1.5.0",
            "_view_count": null,
            "_view_module_version": "1.2.0",
            "bar_color": null,
            "_model_module": "@jupyter-widgets/controls"
          }
        },
        "20423c5bdd76459abef63b591e3042ff": {
          "model_module": "@jupyter-widgets/base",
          "model_name": "LayoutModel",
          "model_module_version": "1.2.0",
          "state": {
            "_view_name": "LayoutView",
            "grid_template_rows": null,
            "right": null,
            "justify_content": null,
            "_view_module": "@jupyter-widgets/base",
            "overflow": null,
            "_model_module_version": "1.2.0",
            "_view_count": null,
            "flex_flow": null,
            "width": null,
            "min_width": null,
            "border": null,
            "align_items": null,
            "bottom": null,
            "_model_module": "@jupyter-widgets/base",
            "top": null,
            "grid_column": null,
            "overflow_y": null,
            "overflow_x": null,
            "grid_auto_flow": null,
            "grid_area": null,
            "grid_template_columns": null,
            "flex": null,
            "_model_name": "LayoutModel",
            "justify_items": null,
            "grid_row": null,
            "max_height": null,
            "align_content": null,
            "visibility": null,
            "align_self": null,
            "height": null,
            "min_height": null,
            "padding": null,
            "grid_auto_rows": null,
            "grid_gap": null,
            "max_width": null,
            "order": null,
            "_view_module_version": "1.2.0",
            "grid_template_areas": null,
            "object_position": null,
            "object_fit": null,
            "grid_auto_columns": null,
            "margin": null,
            "display": null,
            "left": null
          }
        },
        "614c6c92943a4507b6d85098a94f7320": {
          "model_module": "@jupyter-widgets/controls",
          "model_name": "DescriptionStyleModel",
          "model_module_version": "1.5.0",
          "state": {
            "_view_name": "StyleView",
            "_model_name": "DescriptionStyleModel",
            "description_width": "",
            "_view_module": "@jupyter-widgets/base",
            "_model_module_version": "1.5.0",
            "_view_count": null,
            "_view_module_version": "1.2.0",
            "_model_module": "@jupyter-widgets/controls"
          }
        },
        "cc73131ae22144518b28d04ac034fb28": {
          "model_module": "@jupyter-widgets/base",
          "model_name": "LayoutModel",
          "model_module_version": "1.2.0",
          "state": {
            "_view_name": "LayoutView",
            "grid_template_rows": null,
            "right": null,
            "justify_content": null,
            "_view_module": "@jupyter-widgets/base",
            "overflow": null,
            "_model_module_version": "1.2.0",
            "_view_count": null,
            "flex_flow": null,
            "width": null,
            "min_width": null,
            "border": null,
            "align_items": null,
            "bottom": null,
            "_model_module": "@jupyter-widgets/base",
            "top": null,
            "grid_column": null,
            "overflow_y": null,
            "overflow_x": null,
            "grid_auto_flow": null,
            "grid_area": null,
            "grid_template_columns": null,
            "flex": null,
            "_model_name": "LayoutModel",
            "justify_items": null,
            "grid_row": null,
            "max_height": null,
            "align_content": null,
            "visibility": null,
            "align_self": null,
            "height": null,
            "min_height": null,
            "padding": null,
            "grid_auto_rows": null,
            "grid_gap": null,
            "max_width": null,
            "order": null,
            "_view_module_version": "1.2.0",
            "grid_template_areas": null,
            "object_position": null,
            "object_fit": null,
            "grid_auto_columns": null,
            "margin": null,
            "display": null,
            "left": null
          }
        },
        "718401ccbf7541d7a9ab189426e0cd4f": {
          "model_module": "@jupyter-widgets/controls",
          "model_name": "HBoxModel",
          "model_module_version": "1.5.0",
          "state": {
            "_view_name": "HBoxView",
            "_dom_classes": [],
            "_model_name": "HBoxModel",
            "_view_module": "@jupyter-widgets/controls",
            "_model_module_version": "1.5.0",
            "_view_count": null,
            "_view_module_version": "1.5.0",
            "box_style": "",
            "layout": "IPY_MODEL_0bf2bc72117b4e28851cde6e6194777d",
            "_model_module": "@jupyter-widgets/controls",
            "children": [
              "IPY_MODEL_70cb3417745d460daa2460a471b84454",
              "IPY_MODEL_99365f631f4f4b8c8e0ff477848f021b",
              "IPY_MODEL_2507a32c42324fa8bc5c9d522698d0cd"
            ]
          }
        },
        "0bf2bc72117b4e28851cde6e6194777d": {
          "model_module": "@jupyter-widgets/base",
          "model_name": "LayoutModel",
          "model_module_version": "1.2.0",
          "state": {
            "_view_name": "LayoutView",
            "grid_template_rows": null,
            "right": null,
            "justify_content": null,
            "_view_module": "@jupyter-widgets/base",
            "overflow": null,
            "_model_module_version": "1.2.0",
            "_view_count": null,
            "flex_flow": null,
            "width": null,
            "min_width": null,
            "border": null,
            "align_items": null,
            "bottom": null,
            "_model_module": "@jupyter-widgets/base",
            "top": null,
            "grid_column": null,
            "overflow_y": null,
            "overflow_x": null,
            "grid_auto_flow": null,
            "grid_area": null,
            "grid_template_columns": null,
            "flex": null,
            "_model_name": "LayoutModel",
            "justify_items": null,
            "grid_row": null,
            "max_height": null,
            "align_content": null,
            "visibility": null,
            "align_self": null,
            "height": null,
            "min_height": null,
            "padding": null,
            "grid_auto_rows": null,
            "grid_gap": null,
            "max_width": null,
            "order": null,
            "_view_module_version": "1.2.0",
            "grid_template_areas": null,
            "object_position": null,
            "object_fit": null,
            "grid_auto_columns": null,
            "margin": null,
            "display": null,
            "left": null
          }
        },
        "70cb3417745d460daa2460a471b84454": {
          "model_module": "@jupyter-widgets/controls",
          "model_name": "HTMLModel",
          "model_module_version": "1.5.0",
          "state": {
            "_view_name": "HTMLView",
            "style": "IPY_MODEL_064a83b06d2e4f57b934b12558dfc2e8",
            "_dom_classes": [],
            "description": "",
            "_model_name": "HTMLModel",
            "placeholder": "​",
            "_view_module": "@jupyter-widgets/controls",
            "_model_module_version": "1.5.0",
            "value": "",
            "_view_count": null,
            "_view_module_version": "1.5.0",
            "description_tooltip": null,
            "_model_module": "@jupyter-widgets/controls",
            "layout": "IPY_MODEL_a2c6378434bc4443bebe1bb66c897799"
          }
        },
        "99365f631f4f4b8c8e0ff477848f021b": {
          "model_module": "@jupyter-widgets/controls",
          "model_name": "FloatProgressModel",
          "model_module_version": "1.5.0",
          "state": {
            "_view_name": "ProgressView",
            "style": "IPY_MODEL_cca7ff0b7168448fa256f6c7a51173ae",
            "_dom_classes": [],
            "description": "",
            "_model_name": "FloatProgressModel",
            "bar_style": "success",
            "max": 4542,
            "_view_module": "@jupyter-widgets/controls",
            "_model_module_version": "1.5.0",
            "value": 4542,
            "_view_count": null,
            "_view_module_version": "1.5.0",
            "orientation": "horizontal",
            "min": 0,
            "description_tooltip": null,
            "_model_module": "@jupyter-widgets/controls",
            "layout": "IPY_MODEL_3fa531a272ec48c0950f1a9c26d88b24"
          }
        },
        "2507a32c42324fa8bc5c9d522698d0cd": {
          "model_module": "@jupyter-widgets/controls",
          "model_name": "HTMLModel",
          "model_module_version": "1.5.0",
          "state": {
            "_view_name": "HTMLView",
            "style": "IPY_MODEL_92f913005fa8471ea111f2947cbe10f7",
            "_dom_classes": [],
            "description": "",
            "_model_name": "HTMLModel",
            "placeholder": "​",
            "_view_module": "@jupyter-widgets/controls",
            "_model_module_version": "1.5.0",
            "value": " 5120/? [00:00&lt;00:00, 176861.17it/s]",
            "_view_count": null,
            "_view_module_version": "1.5.0",
            "description_tooltip": null,
            "_model_module": "@jupyter-widgets/controls",
            "layout": "IPY_MODEL_fe4c78b045964aff80250a7da5afafe4"
          }
        },
        "064a83b06d2e4f57b934b12558dfc2e8": {
          "model_module": "@jupyter-widgets/controls",
          "model_name": "DescriptionStyleModel",
          "model_module_version": "1.5.0",
          "state": {
            "_view_name": "StyleView",
            "_model_name": "DescriptionStyleModel",
            "description_width": "",
            "_view_module": "@jupyter-widgets/base",
            "_model_module_version": "1.5.0",
            "_view_count": null,
            "_view_module_version": "1.2.0",
            "_model_module": "@jupyter-widgets/controls"
          }
        },
        "a2c6378434bc4443bebe1bb66c897799": {
          "model_module": "@jupyter-widgets/base",
          "model_name": "LayoutModel",
          "model_module_version": "1.2.0",
          "state": {
            "_view_name": "LayoutView",
            "grid_template_rows": null,
            "right": null,
            "justify_content": null,
            "_view_module": "@jupyter-widgets/base",
            "overflow": null,
            "_model_module_version": "1.2.0",
            "_view_count": null,
            "flex_flow": null,
            "width": null,
            "min_width": null,
            "border": null,
            "align_items": null,
            "bottom": null,
            "_model_module": "@jupyter-widgets/base",
            "top": null,
            "grid_column": null,
            "overflow_y": null,
            "overflow_x": null,
            "grid_auto_flow": null,
            "grid_area": null,
            "grid_template_columns": null,
            "flex": null,
            "_model_name": "LayoutModel",
            "justify_items": null,
            "grid_row": null,
            "max_height": null,
            "align_content": null,
            "visibility": null,
            "align_self": null,
            "height": null,
            "min_height": null,
            "padding": null,
            "grid_auto_rows": null,
            "grid_gap": null,
            "max_width": null,
            "order": null,
            "_view_module_version": "1.2.0",
            "grid_template_areas": null,
            "object_position": null,
            "object_fit": null,
            "grid_auto_columns": null,
            "margin": null,
            "display": null,
            "left": null
          }
        },
        "cca7ff0b7168448fa256f6c7a51173ae": {
          "model_module": "@jupyter-widgets/controls",
          "model_name": "ProgressStyleModel",
          "model_module_version": "1.5.0",
          "state": {
            "_view_name": "StyleView",
            "_model_name": "ProgressStyleModel",
            "description_width": "",
            "_view_module": "@jupyter-widgets/base",
            "_model_module_version": "1.5.0",
            "_view_count": null,
            "_view_module_version": "1.2.0",
            "bar_color": null,
            "_model_module": "@jupyter-widgets/controls"
          }
        },
        "3fa531a272ec48c0950f1a9c26d88b24": {
          "model_module": "@jupyter-widgets/base",
          "model_name": "LayoutModel",
          "model_module_version": "1.2.0",
          "state": {
            "_view_name": "LayoutView",
            "grid_template_rows": null,
            "right": null,
            "justify_content": null,
            "_view_module": "@jupyter-widgets/base",
            "overflow": null,
            "_model_module_version": "1.2.0",
            "_view_count": null,
            "flex_flow": null,
            "width": null,
            "min_width": null,
            "border": null,
            "align_items": null,
            "bottom": null,
            "_model_module": "@jupyter-widgets/base",
            "top": null,
            "grid_column": null,
            "overflow_y": null,
            "overflow_x": null,
            "grid_auto_flow": null,
            "grid_area": null,
            "grid_template_columns": null,
            "flex": null,
            "_model_name": "LayoutModel",
            "justify_items": null,
            "grid_row": null,
            "max_height": null,
            "align_content": null,
            "visibility": null,
            "align_self": null,
            "height": null,
            "min_height": null,
            "padding": null,
            "grid_auto_rows": null,
            "grid_gap": null,
            "max_width": null,
            "order": null,
            "_view_module_version": "1.2.0",
            "grid_template_areas": null,
            "object_position": null,
            "object_fit": null,
            "grid_auto_columns": null,
            "margin": null,
            "display": null,
            "left": null
          }
        },
        "92f913005fa8471ea111f2947cbe10f7": {
          "model_module": "@jupyter-widgets/controls",
          "model_name": "DescriptionStyleModel",
          "model_module_version": "1.5.0",
          "state": {
            "_view_name": "StyleView",
            "_model_name": "DescriptionStyleModel",
            "description_width": "",
            "_view_module": "@jupyter-widgets/base",
            "_model_module_version": "1.5.0",
            "_view_count": null,
            "_view_module_version": "1.2.0",
            "_model_module": "@jupyter-widgets/controls"
          }
        },
        "fe4c78b045964aff80250a7da5afafe4": {
          "model_module": "@jupyter-widgets/base",
          "model_name": "LayoutModel",
          "model_module_version": "1.2.0",
          "state": {
            "_view_name": "LayoutView",
            "grid_template_rows": null,
            "right": null,
            "justify_content": null,
            "_view_module": "@jupyter-widgets/base",
            "overflow": null,
            "_model_module_version": "1.2.0",
            "_view_count": null,
            "flex_flow": null,
            "width": null,
            "min_width": null,
            "border": null,
            "align_items": null,
            "bottom": null,
            "_model_module": "@jupyter-widgets/base",
            "top": null,
            "grid_column": null,
            "overflow_y": null,
            "overflow_x": null,
            "grid_auto_flow": null,
            "grid_area": null,
            "grid_template_columns": null,
            "flex": null,
            "_model_name": "LayoutModel",
            "justify_items": null,
            "grid_row": null,
            "max_height": null,
            "align_content": null,
            "visibility": null,
            "align_self": null,
            "height": null,
            "min_height": null,
            "padding": null,
            "grid_auto_rows": null,
            "grid_gap": null,
            "max_width": null,
            "order": null,
            "_view_module_version": "1.2.0",
            "grid_template_areas": null,
            "object_position": null,
            "object_fit": null,
            "grid_auto_columns": null,
            "margin": null,
            "display": null,
            "left": null
          }
        }
      }
    },
    "accelerator": "GPU"
  },
  "nbformat": 4,
  "nbformat_minor": 0
}